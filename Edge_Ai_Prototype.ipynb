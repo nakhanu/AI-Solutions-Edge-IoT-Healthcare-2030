{
  "nbformat": 4,
  "nbformat_minor": 0,
  "metadata": {
    "colab": {
      "provenance": []
    },
    "kernelspec": {
      "name": "python3",
      "display_name": "Python 3"
    },
    "language_info": {
      "name": "python"
    }
  },
  "cells": [
    {
      "cell_type": "code",
      "execution_count": 4,
      "metadata": {
        "colab": {
          "base_uri": "https://localhost:8080/",
          "height": 108
        },
        "id": "kmqEul2FolRQ",
        "outputId": "63ba6b42-6bb2-4064-dd8a-e2d584435b85"
      },
      "outputs": [
        {
          "output_type": "stream",
          "name": "stdout",
          "text": [
            "Please upload your Kaggle dataset zip file (e.g. garbage-classification.zip)\n"
          ]
        },
        {
          "output_type": "display_data",
          "data": {
            "text/plain": [
              "<IPython.core.display.HTML object>"
            ],
            "text/html": [
              "\n",
              "     <input type=\"file\" id=\"files-5ac43846-e0e3-4be9-a9ca-774169215bec\" name=\"files[]\" multiple disabled\n",
              "        style=\"border:none\" />\n",
              "     <output id=\"result-5ac43846-e0e3-4be9-a9ca-774169215bec\">\n",
              "      Upload widget is only available when the cell has been executed in the\n",
              "      current browser session. Please rerun this cell to enable.\n",
              "      </output>\n",
              "      <script>// Copyright 2017 Google LLC\n",
              "//\n",
              "// Licensed under the Apache License, Version 2.0 (the \"License\");\n",
              "// you may not use this file except in compliance with the License.\n",
              "// You may obtain a copy of the License at\n",
              "//\n",
              "//      http://www.apache.org/licenses/LICENSE-2.0\n",
              "//\n",
              "// Unless required by applicable law or agreed to in writing, software\n",
              "// distributed under the License is distributed on an \"AS IS\" BASIS,\n",
              "// WITHOUT WARRANTIES OR CONDITIONS OF ANY KIND, either express or implied.\n",
              "// See the License for the specific language governing permissions and\n",
              "// limitations under the License.\n",
              "\n",
              "/**\n",
              " * @fileoverview Helpers for google.colab Python module.\n",
              " */\n",
              "(function(scope) {\n",
              "function span(text, styleAttributes = {}) {\n",
              "  const element = document.createElement('span');\n",
              "  element.textContent = text;\n",
              "  for (const key of Object.keys(styleAttributes)) {\n",
              "    element.style[key] = styleAttributes[key];\n",
              "  }\n",
              "  return element;\n",
              "}\n",
              "\n",
              "// Max number of bytes which will be uploaded at a time.\n",
              "const MAX_PAYLOAD_SIZE = 100 * 1024;\n",
              "\n",
              "function _uploadFiles(inputId, outputId) {\n",
              "  const steps = uploadFilesStep(inputId, outputId);\n",
              "  const outputElement = document.getElementById(outputId);\n",
              "  // Cache steps on the outputElement to make it available for the next call\n",
              "  // to uploadFilesContinue from Python.\n",
              "  outputElement.steps = steps;\n",
              "\n",
              "  return _uploadFilesContinue(outputId);\n",
              "}\n",
              "\n",
              "// This is roughly an async generator (not supported in the browser yet),\n",
              "// where there are multiple asynchronous steps and the Python side is going\n",
              "// to poll for completion of each step.\n",
              "// This uses a Promise to block the python side on completion of each step,\n",
              "// then passes the result of the previous step as the input to the next step.\n",
              "function _uploadFilesContinue(outputId) {\n",
              "  const outputElement = document.getElementById(outputId);\n",
              "  const steps = outputElement.steps;\n",
              "\n",
              "  const next = steps.next(outputElement.lastPromiseValue);\n",
              "  return Promise.resolve(next.value.promise).then((value) => {\n",
              "    // Cache the last promise value to make it available to the next\n",
              "    // step of the generator.\n",
              "    outputElement.lastPromiseValue = value;\n",
              "    return next.value.response;\n",
              "  });\n",
              "}\n",
              "\n",
              "/**\n",
              " * Generator function which is called between each async step of the upload\n",
              " * process.\n",
              " * @param {string} inputId Element ID of the input file picker element.\n",
              " * @param {string} outputId Element ID of the output display.\n",
              " * @return {!Iterable<!Object>} Iterable of next steps.\n",
              " */\n",
              "function* uploadFilesStep(inputId, outputId) {\n",
              "  const inputElement = document.getElementById(inputId);\n",
              "  inputElement.disabled = false;\n",
              "\n",
              "  const outputElement = document.getElementById(outputId);\n",
              "  outputElement.innerHTML = '';\n",
              "\n",
              "  const pickedPromise = new Promise((resolve) => {\n",
              "    inputElement.addEventListener('change', (e) => {\n",
              "      resolve(e.target.files);\n",
              "    });\n",
              "  });\n",
              "\n",
              "  const cancel = document.createElement('button');\n",
              "  inputElement.parentElement.appendChild(cancel);\n",
              "  cancel.textContent = 'Cancel upload';\n",
              "  const cancelPromise = new Promise((resolve) => {\n",
              "    cancel.onclick = () => {\n",
              "      resolve(null);\n",
              "    };\n",
              "  });\n",
              "\n",
              "  // Wait for the user to pick the files.\n",
              "  const files = yield {\n",
              "    promise: Promise.race([pickedPromise, cancelPromise]),\n",
              "    response: {\n",
              "      action: 'starting',\n",
              "    }\n",
              "  };\n",
              "\n",
              "  cancel.remove();\n",
              "\n",
              "  // Disable the input element since further picks are not allowed.\n",
              "  inputElement.disabled = true;\n",
              "\n",
              "  if (!files) {\n",
              "    return {\n",
              "      response: {\n",
              "        action: 'complete',\n",
              "      }\n",
              "    };\n",
              "  }\n",
              "\n",
              "  for (const file of files) {\n",
              "    const li = document.createElement('li');\n",
              "    li.append(span(file.name, {fontWeight: 'bold'}));\n",
              "    li.append(span(\n",
              "        `(${file.type || 'n/a'}) - ${file.size} bytes, ` +\n",
              "        `last modified: ${\n",
              "            file.lastModifiedDate ? file.lastModifiedDate.toLocaleDateString() :\n",
              "                                    'n/a'} - `));\n",
              "    const percent = span('0% done');\n",
              "    li.appendChild(percent);\n",
              "\n",
              "    outputElement.appendChild(li);\n",
              "\n",
              "    const fileDataPromise = new Promise((resolve) => {\n",
              "      const reader = new FileReader();\n",
              "      reader.onload = (e) => {\n",
              "        resolve(e.target.result);\n",
              "      };\n",
              "      reader.readAsArrayBuffer(file);\n",
              "    });\n",
              "    // Wait for the data to be ready.\n",
              "    let fileData = yield {\n",
              "      promise: fileDataPromise,\n",
              "      response: {\n",
              "        action: 'continue',\n",
              "      }\n",
              "    };\n",
              "\n",
              "    // Use a chunked sending to avoid message size limits. See b/62115660.\n",
              "    let position = 0;\n",
              "    do {\n",
              "      const length = Math.min(fileData.byteLength - position, MAX_PAYLOAD_SIZE);\n",
              "      const chunk = new Uint8Array(fileData, position, length);\n",
              "      position += length;\n",
              "\n",
              "      const base64 = btoa(String.fromCharCode.apply(null, chunk));\n",
              "      yield {\n",
              "        response: {\n",
              "          action: 'append',\n",
              "          file: file.name,\n",
              "          data: base64,\n",
              "        },\n",
              "      };\n",
              "\n",
              "      let percentDone = fileData.byteLength === 0 ?\n",
              "          100 :\n",
              "          Math.round((position / fileData.byteLength) * 100);\n",
              "      percent.textContent = `${percentDone}% done`;\n",
              "\n",
              "    } while (position < fileData.byteLength);\n",
              "  }\n",
              "\n",
              "  // All done.\n",
              "  yield {\n",
              "    response: {\n",
              "      action: 'complete',\n",
              "    }\n",
              "  };\n",
              "}\n",
              "\n",
              "scope.google = scope.google || {};\n",
              "scope.google.colab = scope.google.colab || {};\n",
              "scope.google.colab._files = {\n",
              "  _uploadFiles,\n",
              "  _uploadFilesContinue,\n",
              "};\n",
              "})(self);\n",
              "</script> "
            ]
          },
          "metadata": {}
        },
        {
          "output_type": "stream",
          "name": "stdout",
          "text": [
            "Saving archive (5).zip to archive (5).zip\n",
            "Unzipping archive (5).zip...\n"
          ]
        }
      ],
      "source": [
        "# 1️⃣ Upload Dataset Zip\n",
        "from google.colab import files\n",
        "import zipfile\n",
        "import os\n",
        "import shutil\n",
        "\n",
        "print(\"Please upload your Kaggle dataset zip file (e.g. garbage-classification.zip)\")\n",
        "uploaded = files.upload()\n",
        "\n",
        "# Extract uploaded zip\n",
        "for filename in uploaded.keys():\n",
        "    print(f\"Unzipping {filename}...\")\n",
        "    with zipfile.ZipFile(filename, 'r') as zip_ref:\n",
        "        zip_ref.extractall(\"raw_garbage_dataset\")"
      ]
    },
    {
      "cell_type": "code",
      "source": [
        "# 2️⃣ Organize dataset into recyclable_dataset/{recyclable, non_recyclable}\n",
        "base_dir = 'recyclable_dataset'\n",
        "os.makedirs(base_dir, exist_ok=True)\n",
        "os.makedirs(f'{base_dir}/recyclable', exist_ok=True)\n",
        "os.makedirs(f'{base_dir}/non_recyclable', exist_ok=True)\n",
        "\n",
        "# Define class mappings (adjust source folder name if needed)\n",
        "# Typical Kaggle dataset folder structure after unzip:\n",
        "# raw_garbage_dataset/Garbage classification/cardboard, glass, metal, paper, plastic, trash\n",
        "# Based on the output of the previous cell, the path is nested:\n",
        "# raw_garbage_dataset/Garbage classification/Garbage classification/...\n",
        "source_base = 'raw_garbage_dataset/Garbage classification/Garbage classification'\n",
        "\n",
        "recyclable_classes = ['cardboard', 'glass', 'metal', 'paper', 'plastic']\n",
        "non_recyclable_classes = ['trash']\n",
        "\n",
        "def copy_files(class_list, dest_folder):\n",
        "    for class_name in class_list:\n",
        "        src_folder = os.path.join(source_base, class_name)\n",
        "        if os.path.exists(src_folder):\n",
        "            for file_name in os.listdir(src_folder):\n",
        "                src_path = os.path.join(src_folder, file_name)\n",
        "                # Rename to avoid duplicate file names\n",
        "                dst_path = os.path.join(base_dir, dest_folder, f\"{class_name}_{file_name}\")\n",
        "                shutil.copyfile(src_path, dst_path)\n",
        "        else:\n",
        "            print(f\"Warning: Folder {src_folder} does not exist\")\n",
        "\n",
        "print(\"Copying recyclable files...\")\n",
        "copy_files(recyclable_classes, 'recyclable')\n",
        "\n",
        "print(\"Copying non-recyclable files...\")\n",
        "copy_files(non_recyclable_classes, 'non_recyclable')\n",
        "\n",
        "print(\"Dataset organization complete!\")"
      ],
      "metadata": {
        "colab": {
          "base_uri": "https://localhost:8080/"
        },
        "id": "gpQnSw8ko_jq",
        "outputId": "b3bebb6f-6bb5-46c2-9607-d256fe4139a3"
      },
      "execution_count": 5,
      "outputs": [
        {
          "output_type": "stream",
          "name": "stdout",
          "text": [
            "Copying recyclable files...\n",
            "Copying non-recyclable files...\n",
            "Dataset organization complete!\n"
          ]
        }
      ]
    },
    {
      "cell_type": "code",
      "source": [
        "# 3️⃣ Import libraries and prepare data with augmentation\n",
        "import tensorflow as tf\n",
        "from tensorflow.keras.preprocessing.image import ImageDataGenerator\n",
        "from tensorflow.keras.models import Sequential\n",
        "from tensorflow.keras.layers import Dense, Flatten, Dropout, BatchNormalization\n",
        "\n",
        "datagen = ImageDataGenerator(\n",
        "    rescale=1./255,\n",
        "    validation_split=0.2,\n",
        "    rotation_range=20,\n",
        "    width_shift_range=0.2,\n",
        "    height_shift_range=0.2,\n",
        "    shear_range=0.2,\n",
        "    zoom_range=0.2,\n",
        "    horizontal_flip=True,\n",
        "    fill_mode='nearest'\n",
        ")\n",
        "\n",
        "train_data = datagen.flow_from_directory(\n",
        "    base_dir,\n",
        "    target_size=(96, 96),\n",
        "    batch_size=32,\n",
        "    class_mode='binary',\n",
        "    subset='training'\n",
        ")\n",
        "\n",
        "val_data = datagen.flow_from_directory(\n",
        "    base_dir,\n",
        "    target_size=(96, 96),\n",
        "    batch_size=32,\n",
        "    class_mode='binary',\n",
        "    subset='validation'\n",
        ")"
      ],
      "metadata": {
        "colab": {
          "base_uri": "https://localhost:8080/"
        },
        "id": "G-pXFVCBo_vi",
        "outputId": "853d06c3-4593-4158-f172-05736a8ff4ec"
      },
      "execution_count": 6,
      "outputs": [
        {
          "output_type": "stream",
          "name": "stdout",
          "text": [
            "Found 2022 images belonging to 2 classes.\n",
            "Found 505 images belonging to 2 classes.\n"
          ]
        }
      ]
    },
    {
      "cell_type": "code",
      "source": [
        "# 4️⃣ Build model with MobileNetV2 base + classifier head\n",
        "base_model = tf.keras.applications.MobileNetV2(\n",
        "    input_shape=(96, 96, 3),\n",
        "    include_top=False,\n",
        "    weights='imagenet'\n",
        ")\n",
        "base_model.trainable = False  # Freeze base layers initially\n",
        "\n",
        "model = Sequential([\n",
        "    base_model,\n",
        "    Flatten(),\n",
        "    Dense(128, activation='relu'),\n",
        "    BatchNormalization(),\n",
        "    Dropout(0.5),\n",
        "    Dense(1, activation='sigmoid')\n",
        "])\n",
        "\n",
        "model.compile(\n",
        "    optimizer=tf.keras.optimizers.Adam(learning_rate=1e-3),\n",
        "    loss='binary_crossentropy',\n",
        "    metrics=['accuracy']\n",
        ")\n",
        "\n",
        "model.summary()"
      ],
      "metadata": {
        "colab": {
          "base_uri": "https://localhost:8080/",
          "height": 408
        },
        "id": "G4We6wIZo_6v",
        "outputId": "c5f8e688-c628-4dfa-a765-a91595796b9b"
      },
      "execution_count": 7,
      "outputs": [
        {
          "output_type": "stream",
          "name": "stdout",
          "text": [
            "Downloading data from https://storage.googleapis.com/tensorflow/keras-applications/mobilenet_v2/mobilenet_v2_weights_tf_dim_ordering_tf_kernels_1.0_96_no_top.h5\n",
            "\u001b[1m9406464/9406464\u001b[0m \u001b[32m━━━━━━━━━━━━━━━━━━━━\u001b[0m\u001b[37m\u001b[0m \u001b[1m0s\u001b[0m 0us/step\n"
          ]
        },
        {
          "output_type": "display_data",
          "data": {
            "text/plain": [
              "\u001b[1mModel: \"sequential\"\u001b[0m\n"
            ],
            "text/html": [
              "<pre style=\"white-space:pre;overflow-x:auto;line-height:normal;font-family:Menlo,'DejaVu Sans Mono',consolas,'Courier New',monospace\"><span style=\"font-weight: bold\">Model: \"sequential\"</span>\n",
              "</pre>\n"
            ]
          },
          "metadata": {}
        },
        {
          "output_type": "display_data",
          "data": {
            "text/plain": [
              "┏━━━━━━━━━━━━━━━━━━━━━━━━━━━━━━━━━┳━━━━━━━━━━━━━━━━━━━━━━━━┳━━━━━━━━━━━━━━━┓\n",
              "┃\u001b[1m \u001b[0m\u001b[1mLayer (type)                   \u001b[0m\u001b[1m \u001b[0m┃\u001b[1m \u001b[0m\u001b[1mOutput Shape          \u001b[0m\u001b[1m \u001b[0m┃\u001b[1m \u001b[0m\u001b[1m      Param #\u001b[0m\u001b[1m \u001b[0m┃\n",
              "┡━━━━━━━━━━━━━━━━━━━━━━━━━━━━━━━━━╇━━━━━━━━━━━━━━━━━━━━━━━━╇━━━━━━━━━━━━━━━┩\n",
              "│ mobilenetv2_1.00_96             │ (\u001b[38;5;45mNone\u001b[0m, \u001b[38;5;34m3\u001b[0m, \u001b[38;5;34m3\u001b[0m, \u001b[38;5;34m1280\u001b[0m)     │     \u001b[38;5;34m2,257,984\u001b[0m │\n",
              "│ (\u001b[38;5;33mFunctional\u001b[0m)                    │                        │               │\n",
              "├─────────────────────────────────┼────────────────────────┼───────────────┤\n",
              "│ flatten (\u001b[38;5;33mFlatten\u001b[0m)               │ (\u001b[38;5;45mNone\u001b[0m, \u001b[38;5;34m11520\u001b[0m)          │             \u001b[38;5;34m0\u001b[0m │\n",
              "├─────────────────────────────────┼────────────────────────┼───────────────┤\n",
              "│ dense (\u001b[38;5;33mDense\u001b[0m)                   │ (\u001b[38;5;45mNone\u001b[0m, \u001b[38;5;34m128\u001b[0m)            │     \u001b[38;5;34m1,474,688\u001b[0m │\n",
              "├─────────────────────────────────┼────────────────────────┼───────────────┤\n",
              "│ batch_normalization             │ (\u001b[38;5;45mNone\u001b[0m, \u001b[38;5;34m128\u001b[0m)            │           \u001b[38;5;34m512\u001b[0m │\n",
              "│ (\u001b[38;5;33mBatchNormalization\u001b[0m)            │                        │               │\n",
              "├─────────────────────────────────┼────────────────────────┼───────────────┤\n",
              "│ dropout (\u001b[38;5;33mDropout\u001b[0m)               │ (\u001b[38;5;45mNone\u001b[0m, \u001b[38;5;34m128\u001b[0m)            │             \u001b[38;5;34m0\u001b[0m │\n",
              "├─────────────────────────────────┼────────────────────────┼───────────────┤\n",
              "│ dense_1 (\u001b[38;5;33mDense\u001b[0m)                 │ (\u001b[38;5;45mNone\u001b[0m, \u001b[38;5;34m1\u001b[0m)              │           \u001b[38;5;34m129\u001b[0m │\n",
              "└─────────────────────────────────┴────────────────────────┴───────────────┘\n"
            ],
            "text/html": [
              "<pre style=\"white-space:pre;overflow-x:auto;line-height:normal;font-family:Menlo,'DejaVu Sans Mono',consolas,'Courier New',monospace\">┏━━━━━━━━━━━━━━━━━━━━━━━━━━━━━━━━━┳━━━━━━━━━━━━━━━━━━━━━━━━┳━━━━━━━━━━━━━━━┓\n",
              "┃<span style=\"font-weight: bold\"> Layer (type)                    </span>┃<span style=\"font-weight: bold\"> Output Shape           </span>┃<span style=\"font-weight: bold\">       Param # </span>┃\n",
              "┡━━━━━━━━━━━━━━━━━━━━━━━━━━━━━━━━━╇━━━━━━━━━━━━━━━━━━━━━━━━╇━━━━━━━━━━━━━━━┩\n",
              "│ mobilenetv2_1.00_96             │ (<span style=\"color: #00d7ff; text-decoration-color: #00d7ff\">None</span>, <span style=\"color: #00af00; text-decoration-color: #00af00\">3</span>, <span style=\"color: #00af00; text-decoration-color: #00af00\">3</span>, <span style=\"color: #00af00; text-decoration-color: #00af00\">1280</span>)     │     <span style=\"color: #00af00; text-decoration-color: #00af00\">2,257,984</span> │\n",
              "│ (<span style=\"color: #0087ff; text-decoration-color: #0087ff\">Functional</span>)                    │                        │               │\n",
              "├─────────────────────────────────┼────────────────────────┼───────────────┤\n",
              "│ flatten (<span style=\"color: #0087ff; text-decoration-color: #0087ff\">Flatten</span>)               │ (<span style=\"color: #00d7ff; text-decoration-color: #00d7ff\">None</span>, <span style=\"color: #00af00; text-decoration-color: #00af00\">11520</span>)          │             <span style=\"color: #00af00; text-decoration-color: #00af00\">0</span> │\n",
              "├─────────────────────────────────┼────────────────────────┼───────────────┤\n",
              "│ dense (<span style=\"color: #0087ff; text-decoration-color: #0087ff\">Dense</span>)                   │ (<span style=\"color: #00d7ff; text-decoration-color: #00d7ff\">None</span>, <span style=\"color: #00af00; text-decoration-color: #00af00\">128</span>)            │     <span style=\"color: #00af00; text-decoration-color: #00af00\">1,474,688</span> │\n",
              "├─────────────────────────────────┼────────────────────────┼───────────────┤\n",
              "│ batch_normalization             │ (<span style=\"color: #00d7ff; text-decoration-color: #00d7ff\">None</span>, <span style=\"color: #00af00; text-decoration-color: #00af00\">128</span>)            │           <span style=\"color: #00af00; text-decoration-color: #00af00\">512</span> │\n",
              "│ (<span style=\"color: #0087ff; text-decoration-color: #0087ff\">BatchNormalization</span>)            │                        │               │\n",
              "├─────────────────────────────────┼────────────────────────┼───────────────┤\n",
              "│ dropout (<span style=\"color: #0087ff; text-decoration-color: #0087ff\">Dropout</span>)               │ (<span style=\"color: #00d7ff; text-decoration-color: #00d7ff\">None</span>, <span style=\"color: #00af00; text-decoration-color: #00af00\">128</span>)            │             <span style=\"color: #00af00; text-decoration-color: #00af00\">0</span> │\n",
              "├─────────────────────────────────┼────────────────────────┼───────────────┤\n",
              "│ dense_1 (<span style=\"color: #0087ff; text-decoration-color: #0087ff\">Dense</span>)                 │ (<span style=\"color: #00d7ff; text-decoration-color: #00d7ff\">None</span>, <span style=\"color: #00af00; text-decoration-color: #00af00\">1</span>)              │           <span style=\"color: #00af00; text-decoration-color: #00af00\">129</span> │\n",
              "└─────────────────────────────────┴────────────────────────┴───────────────┘\n",
              "</pre>\n"
            ]
          },
          "metadata": {}
        },
        {
          "output_type": "display_data",
          "data": {
            "text/plain": [
              "\u001b[1m Total params: \u001b[0m\u001b[38;5;34m3,733,313\u001b[0m (14.24 MB)\n"
            ],
            "text/html": [
              "<pre style=\"white-space:pre;overflow-x:auto;line-height:normal;font-family:Menlo,'DejaVu Sans Mono',consolas,'Courier New',monospace\"><span style=\"font-weight: bold\"> Total params: </span><span style=\"color: #00af00; text-decoration-color: #00af00\">3,733,313</span> (14.24 MB)\n",
              "</pre>\n"
            ]
          },
          "metadata": {}
        },
        {
          "output_type": "display_data",
          "data": {
            "text/plain": [
              "\u001b[1m Trainable params: \u001b[0m\u001b[38;5;34m1,475,073\u001b[0m (5.63 MB)\n"
            ],
            "text/html": [
              "<pre style=\"white-space:pre;overflow-x:auto;line-height:normal;font-family:Menlo,'DejaVu Sans Mono',consolas,'Courier New',monospace\"><span style=\"font-weight: bold\"> Trainable params: </span><span style=\"color: #00af00; text-decoration-color: #00af00\">1,475,073</span> (5.63 MB)\n",
              "</pre>\n"
            ]
          },
          "metadata": {}
        },
        {
          "output_type": "display_data",
          "data": {
            "text/plain": [
              "\u001b[1m Non-trainable params: \u001b[0m\u001b[38;5;34m2,258,240\u001b[0m (8.61 MB)\n"
            ],
            "text/html": [
              "<pre style=\"white-space:pre;overflow-x:auto;line-height:normal;font-family:Menlo,'DejaVu Sans Mono',consolas,'Courier New',monospace\"><span style=\"font-weight: bold\"> Non-trainable params: </span><span style=\"color: #00af00; text-decoration-color: #00af00\">2,258,240</span> (8.61 MB)\n",
              "</pre>\n"
            ]
          },
          "metadata": {}
        }
      ]
    },
    {
      "cell_type": "code",
      "source": [
        "# 5️⃣ Train with EarlyStopping and ReduceLROnPlateau callbacks\n",
        "early_stop = tf.keras.callbacks.EarlyStopping(monitor='val_loss', patience=5, restore_best_weights=True)\n",
        "reduce_lr = tf.keras.callbacks.ReduceLROnPlateau(monitor='val_loss', factor=0.5, patience=3, min_lr=1e-5)\n",
        "\n",
        "history = model.fit(\n",
        "    train_data,\n",
        "    validation_data=val_data,\n",
        "    epochs=20,\n",
        "    callbacks=[early_stop, reduce_lr]\n",
        ")\n",
        "\n",
        "# 6️⃣ Print final accuracy\n",
        "print(f\"Training Accuracy: {history.history['accuracy'][-1]:.3f}\")\n",
        "print(f\"Validation Accuracy: {history.history['val_accuracy'][-1]:.3f}\")"
      ],
      "metadata": {
        "colab": {
          "base_uri": "https://localhost:8080/"
        },
        "id": "pjS12dkZpAEs",
        "outputId": "372e15e0-821c-4047-d986-4f225cf88bc3"
      },
      "execution_count": 8,
      "outputs": [
        {
          "output_type": "stream",
          "name": "stderr",
          "text": [
            "/usr/local/lib/python3.11/dist-packages/keras/src/trainers/data_adapters/py_dataset_adapter.py:121: UserWarning: Your `PyDataset` class should call `super().__init__(**kwargs)` in its constructor. `**kwargs` can include `workers`, `use_multiprocessing`, `max_queue_size`. Do not pass these arguments to `fit()`, as they will be ignored.\n",
            "  self._warn_if_super_not_called()\n"
          ]
        },
        {
          "output_type": "stream",
          "name": "stdout",
          "text": [
            "Epoch 1/20\n",
            "\u001b[1m64/64\u001b[0m \u001b[32m━━━━━━━━━━━━━━━━━━━━\u001b[0m\u001b[37m\u001b[0m \u001b[1m0s\u001b[0m 272ms/step - accuracy: 0.5869 - loss: 0.8240"
          ]
        },
        {
          "output_type": "stream",
          "name": "stderr",
          "text": [
            "/usr/local/lib/python3.11/dist-packages/keras/src/trainers/data_adapters/py_dataset_adapter.py:121: UserWarning: Your `PyDataset` class should call `super().__init__(**kwargs)` in its constructor. `**kwargs` can include `workers`, `use_multiprocessing`, `max_queue_size`. Do not pass these arguments to `fit()`, as they will be ignored.\n",
            "  self._warn_if_super_not_called()\n"
          ]
        },
        {
          "output_type": "stream",
          "name": "stdout",
          "text": [
            "\b\b\b\b\b\b\b\b\b\b\b\b\b\b\b\b\b\b\b\b\b\b\b\b\b\b\b\b\b\b\b\b\b\b\b\b\b\b\b\b\b\b\b\b\b\b\b\b\b\b\b\b\b\b\b\b\b\b\b\b\b\b\b\b\b\b\b\b\b\b\b\b\b\b\r\u001b[1m64/64\u001b[0m \u001b[32m━━━━━━━━━━━━━━━━━━━━\u001b[0m\u001b[37m\u001b[0m \u001b[1m32s\u001b[0m 389ms/step - accuracy: 0.5877 - loss: 0.8222 - val_accuracy: 0.4277 - val_loss: 1.0321 - learning_rate: 0.0010\n",
            "Epoch 2/20\n",
            "\u001b[1m64/64\u001b[0m \u001b[32m━━━━━━━━━━━━━━━━━━━━\u001b[0m\u001b[37m\u001b[0m \u001b[1m23s\u001b[0m 352ms/step - accuracy: 0.7972 - loss: 0.4435 - val_accuracy: 0.6931 - val_loss: 0.5999 - learning_rate: 0.0010\n",
            "Epoch 3/20\n",
            "\u001b[1m64/64\u001b[0m \u001b[32m━━━━━━━━━━━━━━━━━━━━\u001b[0m\u001b[37m\u001b[0m \u001b[1m41s\u001b[0m 351ms/step - accuracy: 0.9141 - loss: 0.2770 - val_accuracy: 0.9327 - val_loss: 0.2507 - learning_rate: 0.0010\n",
            "Epoch 4/20\n",
            "\u001b[1m64/64\u001b[0m \u001b[32m━━━━━━━━━━━━━━━━━━━━\u001b[0m\u001b[37m\u001b[0m \u001b[1m23s\u001b[0m 351ms/step - accuracy: 0.9464 - loss: 0.1789 - val_accuracy: 0.9109 - val_loss: 0.2703 - learning_rate: 0.0010\n",
            "Epoch 5/20\n",
            "\u001b[1m64/64\u001b[0m \u001b[32m━━━━━━━━━━━━━━━━━━━━\u001b[0m\u001b[37m\u001b[0m \u001b[1m21s\u001b[0m 330ms/step - accuracy: 0.9641 - loss: 0.1331 - val_accuracy: 0.9485 - val_loss: 0.1785 - learning_rate: 0.0010\n",
            "Epoch 6/20\n",
            "\u001b[1m64/64\u001b[0m \u001b[32m━━━━━━━━━━━━━━━━━━━━\u001b[0m\u001b[37m\u001b[0m \u001b[1m42s\u001b[0m 355ms/step - accuracy: 0.9568 - loss: 0.1309 - val_accuracy: 0.9465 - val_loss: 0.1780 - learning_rate: 0.0010\n",
            "Epoch 7/20\n",
            "\u001b[1m64/64\u001b[0m \u001b[32m━━━━━━━━━━━━━━━━━━━━\u001b[0m\u001b[37m\u001b[0m \u001b[1m21s\u001b[0m 330ms/step - accuracy: 0.9679 - loss: 0.0928 - val_accuracy: 0.9386 - val_loss: 0.1800 - learning_rate: 0.0010\n",
            "Epoch 8/20\n",
            "\u001b[1m64/64\u001b[0m \u001b[32m━━━━━━━━━━━━━━━━━━━━\u001b[0m\u001b[37m\u001b[0m \u001b[1m22s\u001b[0m 346ms/step - accuracy: 0.9659 - loss: 0.0963 - val_accuracy: 0.9525 - val_loss: 0.1560 - learning_rate: 0.0010\n",
            "Epoch 9/20\n",
            "\u001b[1m64/64\u001b[0m \u001b[32m━━━━━━━━━━━━━━━━━━━━\u001b[0m\u001b[37m\u001b[0m \u001b[1m22s\u001b[0m 351ms/step - accuracy: 0.9706 - loss: 0.0990 - val_accuracy: 0.9446 - val_loss: 0.1525 - learning_rate: 0.0010\n",
            "Epoch 10/20\n",
            "\u001b[1m64/64\u001b[0m \u001b[32m━━━━━━━━━━━━━━━━━━━━\u001b[0m\u001b[37m\u001b[0m \u001b[1m22s\u001b[0m 351ms/step - accuracy: 0.9747 - loss: 0.0823 - val_accuracy: 0.9366 - val_loss: 0.1731 - learning_rate: 0.0010\n",
            "Epoch 11/20\n",
            "\u001b[1m64/64\u001b[0m \u001b[32m━━━━━━━━━━━━━━━━━━━━\u001b[0m\u001b[37m\u001b[0m \u001b[1m42s\u001b[0m 369ms/step - accuracy: 0.9768 - loss: 0.0704 - val_accuracy: 0.9525 - val_loss: 0.1792 - learning_rate: 0.0010\n",
            "Epoch 12/20\n",
            "\u001b[1m64/64\u001b[0m \u001b[32m━━━━━━━━━━━━━━━━━━━━\u001b[0m\u001b[37m\u001b[0m \u001b[1m23s\u001b[0m 356ms/step - accuracy: 0.9749 - loss: 0.0880 - val_accuracy: 0.9525 - val_loss: 0.1776 - learning_rate: 0.0010\n",
            "Epoch 13/20\n",
            "\u001b[1m64/64\u001b[0m \u001b[32m━━━━━━━━━━━━━━━━━━━━\u001b[0m\u001b[37m\u001b[0m \u001b[1m41s\u001b[0m 351ms/step - accuracy: 0.9755 - loss: 0.0642 - val_accuracy: 0.9446 - val_loss: 0.1742 - learning_rate: 5.0000e-04\n",
            "Epoch 14/20\n",
            "\u001b[1m64/64\u001b[0m \u001b[32m━━━━━━━━━━━━━━━━━━━━\u001b[0m\u001b[37m\u001b[0m \u001b[1m23s\u001b[0m 351ms/step - accuracy: 0.9780 - loss: 0.0685 - val_accuracy: 0.9505 - val_loss: 0.1584 - learning_rate: 5.0000e-04\n",
            "Training Accuracy: 0.980\n",
            "Validation Accuracy: 0.950\n"
          ]
        }
      ]
    },
    {
      "cell_type": "code",
      "metadata": {
        "colab": {
          "base_uri": "https://localhost:8080/"
        },
        "id": "e78ac609",
        "outputId": "5efe23a9-b6d5-4a7b-af36-c23bf2f69649"
      },
      "source": [
        "import os\n",
        "\n",
        "# Assuming the dataset was extracted to 'raw_garbage_dataset'\n",
        "extracted_path = 'raw_garbage_dataset'\n",
        "\n",
        "if os.path.exists(extracted_path):\n",
        "    print(f\"Contents of {extracted_path}:\")\n",
        "    for item in os.listdir(extracted_path):\n",
        "        print(item)\n",
        "    # If there's a nested folder like \"Garbage classification\", list its contents as well\n",
        "    nested_path = os.path.join(extracted_path, 'Garbage classification')\n",
        "    if os.path.exists(nested_path):\n",
        "        print(f\"\\nContents of {nested_path}:\")\n",
        "        for item in os.listdir(nested_path):\n",
        "            print(item)\n",
        "else:\n",
        "    print(f\"The directory '{extracted_path}' was not found. Please ensure the dataset was extracted correctly.\")"
      ],
      "execution_count": 9,
      "outputs": [
        {
          "output_type": "stream",
          "name": "stdout",
          "text": [
            "Contents of raw_garbage_dataset:\n",
            "zero-indexed-files.txt\n",
            "one-indexed-files-notrash_val.txt\n",
            "one-indexed-files-notrash_test.txt\n",
            "Garbage classification\n",
            "one-indexed-files.txt\n",
            "one-indexed-files-notrash_train.txt\n",
            "garbage classification\n",
            "\n",
            "Contents of raw_garbage_dataset/Garbage classification:\n",
            "Garbage classification\n"
          ]
        }
      ]
    },
    {
      "cell_type": "code",
      "metadata": {
        "colab": {
          "base_uri": "https://localhost:8080/"
        },
        "id": "db606d44",
        "outputId": "4f98bc0f-f3db-4c05-d127-fa3efe1a88bd"
      },
      "source": [
        "# 3️⃣ Import libraries and prepare data with augmentation\n",
        "import tensorflow as tf\n",
        "from tensorflow.keras.preprocessing.image import ImageDataGenerator\n",
        "from tensorflow.keras.models import Sequential\n",
        "from tensorflow.keras.layers import Dense, Flatten, Dropout, BatchNormalization\n",
        "\n",
        "datagen = ImageDataGenerator(\n",
        "    rescale=1./255,\n",
        "    validation_split=0.2,\n",
        "    rotation_range=20,\n",
        "    width_shift_range=0.2,\n",
        "    height_shift_range=0.2,\n",
        "    shear_range=0.2,\n",
        "    zoom_range=0.2,\n",
        "    horizontal_flip=True,\n",
        "    fill_mode='nearest'\n",
        ")\n",
        "\n",
        "train_data = datagen.flow_from_directory(\n",
        "    base_dir,\n",
        "    target_size=(96, 96),\n",
        "    batch_size=32,\n",
        "    class_mode='binary',\n",
        "    subset='training'\n",
        ")\n",
        "\n",
        "val_data = datagen.flow_from_directory(\n",
        "    base_dir,\n",
        "    target_size=(96, 96),\n",
        "    batch_size=32,\n",
        "    class_mode='binary',\n",
        "    subset='validation'\n",
        ")"
      ],
      "execution_count": 10,
      "outputs": [
        {
          "output_type": "stream",
          "name": "stdout",
          "text": [
            "Found 2022 images belonging to 2 classes.\n",
            "Found 505 images belonging to 2 classes.\n"
          ]
        }
      ]
    },
    {
      "cell_type": "code",
      "metadata": {
        "colab": {
          "base_uri": "https://localhost:8080/",
          "height": 353
        },
        "id": "195bb6b6",
        "outputId": "03d7dd95-c1b7-4030-9b84-9c46ff867983"
      },
      "source": [
        "# 4️⃣ Build model with MobileNetV2 base + classifier head\n",
        "base_model = tf.keras.applications.MobileNetV2(\n",
        "    input_shape=(96, 96, 3),\n",
        "    include_top=False,\n",
        "    weights='imagenet'\n",
        ")\n",
        "base_model.trainable = False  # Freeze base layers initially\n",
        "\n",
        "model = Sequential([\n",
        "    base_model,\n",
        "    Flatten(),\n",
        "    Dense(128, activation='relu'),\n",
        "    BatchNormalization(),\n",
        "    Dropout(0.5),\n",
        "    Dense(1, activation='sigmoid')\n",
        "])\n",
        "\n",
        "model.compile(\n",
        "    optimizer=tf.keras.optimizers.Adam(learning_rate=1e-3),\n",
        "    loss='binary_crossentropy',\n",
        "    metrics=['accuracy']\n",
        ")\n",
        "\n",
        "model.summary()"
      ],
      "execution_count": 11,
      "outputs": [
        {
          "output_type": "display_data",
          "data": {
            "text/plain": [
              "\u001b[1mModel: \"sequential_1\"\u001b[0m\n"
            ],
            "text/html": [
              "<pre style=\"white-space:pre;overflow-x:auto;line-height:normal;font-family:Menlo,'DejaVu Sans Mono',consolas,'Courier New',monospace\"><span style=\"font-weight: bold\">Model: \"sequential_1\"</span>\n",
              "</pre>\n"
            ]
          },
          "metadata": {}
        },
        {
          "output_type": "display_data",
          "data": {
            "text/plain": [
              "┏━━━━━━━━━━━━━━━━━━━━━━━━━━━━━━━━━┳━━━━━━━━━━━━━━━━━━━━━━━━┳━━━━━━━━━━━━━━━┓\n",
              "┃\u001b[1m \u001b[0m\u001b[1mLayer (type)                   \u001b[0m\u001b[1m \u001b[0m┃\u001b[1m \u001b[0m\u001b[1mOutput Shape          \u001b[0m\u001b[1m \u001b[0m┃\u001b[1m \u001b[0m\u001b[1m      Param #\u001b[0m\u001b[1m \u001b[0m┃\n",
              "┡━━━━━━━━━━━━━━━━━━━━━━━━━━━━━━━━━╇━━━━━━━━━━━━━━━━━━━━━━━━╇━━━━━━━━━━━━━━━┩\n",
              "│ mobilenetv2_1.00_96             │ (\u001b[38;5;45mNone\u001b[0m, \u001b[38;5;34m3\u001b[0m, \u001b[38;5;34m3\u001b[0m, \u001b[38;5;34m1280\u001b[0m)     │     \u001b[38;5;34m2,257,984\u001b[0m │\n",
              "│ (\u001b[38;5;33mFunctional\u001b[0m)                    │                        │               │\n",
              "├─────────────────────────────────┼────────────────────────┼───────────────┤\n",
              "│ flatten_1 (\u001b[38;5;33mFlatten\u001b[0m)             │ (\u001b[38;5;45mNone\u001b[0m, \u001b[38;5;34m11520\u001b[0m)          │             \u001b[38;5;34m0\u001b[0m │\n",
              "├─────────────────────────────────┼────────────────────────┼───────────────┤\n",
              "│ dense_2 (\u001b[38;5;33mDense\u001b[0m)                 │ (\u001b[38;5;45mNone\u001b[0m, \u001b[38;5;34m128\u001b[0m)            │     \u001b[38;5;34m1,474,688\u001b[0m │\n",
              "├─────────────────────────────────┼────────────────────────┼───────────────┤\n",
              "│ batch_normalization_1           │ (\u001b[38;5;45mNone\u001b[0m, \u001b[38;5;34m128\u001b[0m)            │           \u001b[38;5;34m512\u001b[0m │\n",
              "│ (\u001b[38;5;33mBatchNormalization\u001b[0m)            │                        │               │\n",
              "├─────────────────────────────────┼────────────────────────┼───────────────┤\n",
              "│ dropout_1 (\u001b[38;5;33mDropout\u001b[0m)             │ (\u001b[38;5;45mNone\u001b[0m, \u001b[38;5;34m128\u001b[0m)            │             \u001b[38;5;34m0\u001b[0m │\n",
              "├─────────────────────────────────┼────────────────────────┼───────────────┤\n",
              "│ dense_3 (\u001b[38;5;33mDense\u001b[0m)                 │ (\u001b[38;5;45mNone\u001b[0m, \u001b[38;5;34m1\u001b[0m)              │           \u001b[38;5;34m129\u001b[0m │\n",
              "└─────────────────────────────────┴────────────────────────┴───────────────┘\n"
            ],
            "text/html": [
              "<pre style=\"white-space:pre;overflow-x:auto;line-height:normal;font-family:Menlo,'DejaVu Sans Mono',consolas,'Courier New',monospace\">┏━━━━━━━━━━━━━━━━━━━━━━━━━━━━━━━━━┳━━━━━━━━━━━━━━━━━━━━━━━━┳━━━━━━━━━━━━━━━┓\n",
              "┃<span style=\"font-weight: bold\"> Layer (type)                    </span>┃<span style=\"font-weight: bold\"> Output Shape           </span>┃<span style=\"font-weight: bold\">       Param # </span>┃\n",
              "┡━━━━━━━━━━━━━━━━━━━━━━━━━━━━━━━━━╇━━━━━━━━━━━━━━━━━━━━━━━━╇━━━━━━━━━━━━━━━┩\n",
              "│ mobilenetv2_1.00_96             │ (<span style=\"color: #00d7ff; text-decoration-color: #00d7ff\">None</span>, <span style=\"color: #00af00; text-decoration-color: #00af00\">3</span>, <span style=\"color: #00af00; text-decoration-color: #00af00\">3</span>, <span style=\"color: #00af00; text-decoration-color: #00af00\">1280</span>)     │     <span style=\"color: #00af00; text-decoration-color: #00af00\">2,257,984</span> │\n",
              "│ (<span style=\"color: #0087ff; text-decoration-color: #0087ff\">Functional</span>)                    │                        │               │\n",
              "├─────────────────────────────────┼────────────────────────┼───────────────┤\n",
              "│ flatten_1 (<span style=\"color: #0087ff; text-decoration-color: #0087ff\">Flatten</span>)             │ (<span style=\"color: #00d7ff; text-decoration-color: #00d7ff\">None</span>, <span style=\"color: #00af00; text-decoration-color: #00af00\">11520</span>)          │             <span style=\"color: #00af00; text-decoration-color: #00af00\">0</span> │\n",
              "├─────────────────────────────────┼────────────────────────┼───────────────┤\n",
              "│ dense_2 (<span style=\"color: #0087ff; text-decoration-color: #0087ff\">Dense</span>)                 │ (<span style=\"color: #00d7ff; text-decoration-color: #00d7ff\">None</span>, <span style=\"color: #00af00; text-decoration-color: #00af00\">128</span>)            │     <span style=\"color: #00af00; text-decoration-color: #00af00\">1,474,688</span> │\n",
              "├─────────────────────────────────┼────────────────────────┼───────────────┤\n",
              "│ batch_normalization_1           │ (<span style=\"color: #00d7ff; text-decoration-color: #00d7ff\">None</span>, <span style=\"color: #00af00; text-decoration-color: #00af00\">128</span>)            │           <span style=\"color: #00af00; text-decoration-color: #00af00\">512</span> │\n",
              "│ (<span style=\"color: #0087ff; text-decoration-color: #0087ff\">BatchNormalization</span>)            │                        │               │\n",
              "├─────────────────────────────────┼────────────────────────┼───────────────┤\n",
              "│ dropout_1 (<span style=\"color: #0087ff; text-decoration-color: #0087ff\">Dropout</span>)             │ (<span style=\"color: #00d7ff; text-decoration-color: #00d7ff\">None</span>, <span style=\"color: #00af00; text-decoration-color: #00af00\">128</span>)            │             <span style=\"color: #00af00; text-decoration-color: #00af00\">0</span> │\n",
              "├─────────────────────────────────┼────────────────────────┼───────────────┤\n",
              "│ dense_3 (<span style=\"color: #0087ff; text-decoration-color: #0087ff\">Dense</span>)                 │ (<span style=\"color: #00d7ff; text-decoration-color: #00d7ff\">None</span>, <span style=\"color: #00af00; text-decoration-color: #00af00\">1</span>)              │           <span style=\"color: #00af00; text-decoration-color: #00af00\">129</span> │\n",
              "└─────────────────────────────────┴────────────────────────┴───────────────┘\n",
              "</pre>\n"
            ]
          },
          "metadata": {}
        },
        {
          "output_type": "display_data",
          "data": {
            "text/plain": [
              "\u001b[1m Total params: \u001b[0m\u001b[38;5;34m3,733,313\u001b[0m (14.24 MB)\n"
            ],
            "text/html": [
              "<pre style=\"white-space:pre;overflow-x:auto;line-height:normal;font-family:Menlo,'DejaVu Sans Mono',consolas,'Courier New',monospace\"><span style=\"font-weight: bold\"> Total params: </span><span style=\"color: #00af00; text-decoration-color: #00af00\">3,733,313</span> (14.24 MB)\n",
              "</pre>\n"
            ]
          },
          "metadata": {}
        },
        {
          "output_type": "display_data",
          "data": {
            "text/plain": [
              "\u001b[1m Trainable params: \u001b[0m\u001b[38;5;34m1,475,073\u001b[0m (5.63 MB)\n"
            ],
            "text/html": [
              "<pre style=\"white-space:pre;overflow-x:auto;line-height:normal;font-family:Menlo,'DejaVu Sans Mono',consolas,'Courier New',monospace\"><span style=\"font-weight: bold\"> Trainable params: </span><span style=\"color: #00af00; text-decoration-color: #00af00\">1,475,073</span> (5.63 MB)\n",
              "</pre>\n"
            ]
          },
          "metadata": {}
        },
        {
          "output_type": "display_data",
          "data": {
            "text/plain": [
              "\u001b[1m Non-trainable params: \u001b[0m\u001b[38;5;34m2,258,240\u001b[0m (8.61 MB)\n"
            ],
            "text/html": [
              "<pre style=\"white-space:pre;overflow-x:auto;line-height:normal;font-family:Menlo,'DejaVu Sans Mono',consolas,'Courier New',monospace\"><span style=\"font-weight: bold\"> Non-trainable params: </span><span style=\"color: #00af00; text-decoration-color: #00af00\">2,258,240</span> (8.61 MB)\n",
              "</pre>\n"
            ]
          },
          "metadata": {}
        }
      ]
    },
    {
      "cell_type": "code",
      "metadata": {
        "colab": {
          "base_uri": "https://localhost:8080/"
        },
        "id": "a593b091",
        "outputId": "b219c372-9c49-42ac-a9b9-cc1145c951f4"
      },
      "source": [
        "# 5️⃣ Train with EarlyStopping and ReduceLROnPlateau callbacks\n",
        "early_stop = tf.keras.callbacks.EarlyStopping(monitor='val_loss', patience=5, restore_best_weights=True)\n",
        "reduce_lr = tf.keras.callbacks.ReduceLROnPlateau(monitor='val_loss', factor=0.5, patience=3, min_lr=1e-5)\n",
        "\n",
        "history = model.fit(\n",
        "    train_data,\n",
        "    validation_data=val_data,\n",
        "    epochs=20,\n",
        "    callbacks=[early_stop, reduce_lr]\n",
        ")\n",
        "\n",
        "# 6️⃣ Print final accuracy\n",
        "print(f\"Training Accuracy: {history.history['accuracy'][-1]:.3f}\")\n",
        "print(f\"Validation Accuracy: {history.history['val_accuracy'][-1]:.3f}\")"
      ],
      "execution_count": 12,
      "outputs": [
        {
          "output_type": "stream",
          "name": "stderr",
          "text": [
            "/usr/local/lib/python3.11/dist-packages/keras/src/trainers/data_adapters/py_dataset_adapter.py:121: UserWarning: Your `PyDataset` class should call `super().__init__(**kwargs)` in its constructor. `**kwargs` can include `workers`, `use_multiprocessing`, `max_queue_size`. Do not pass these arguments to `fit()`, as they will be ignored.\n",
            "  self._warn_if_super_not_called()\n"
          ]
        },
        {
          "output_type": "stream",
          "name": "stdout",
          "text": [
            "Epoch 1/20\n",
            "\u001b[1m64/64\u001b[0m \u001b[32m━━━━━━━━━━━━━━━━━━━━\u001b[0m\u001b[37m\u001b[0m \u001b[1m0s\u001b[0m 277ms/step - accuracy: 0.5841 - loss: 0.9115"
          ]
        },
        {
          "output_type": "stream",
          "name": "stderr",
          "text": [
            "/usr/local/lib/python3.11/dist-packages/keras/src/trainers/data_adapters/py_dataset_adapter.py:121: UserWarning: Your `PyDataset` class should call `super().__init__(**kwargs)` in its constructor. `**kwargs` can include `workers`, `use_multiprocessing`, `max_queue_size`. Do not pass these arguments to `fit()`, as they will be ignored.\n",
            "  self._warn_if_super_not_called()\n"
          ]
        },
        {
          "output_type": "stream",
          "name": "stdout",
          "text": [
            "\b\b\b\b\b\b\b\b\b\b\b\b\b\b\b\b\b\b\b\b\b\b\b\b\b\b\b\b\b\b\b\b\b\b\b\b\b\b\b\b\b\b\b\b\b\b\b\b\b\b\b\b\b\b\b\b\b\b\b\b\b\b\b\b\b\b\b\b\b\b\b\b\b\b\r\u001b[1m64/64\u001b[0m \u001b[32m━━━━━━━━━━━━━━━━━━━━\u001b[0m\u001b[37m\u001b[0m \u001b[1m31s\u001b[0m 392ms/step - accuracy: 0.5850 - loss: 0.9086 - val_accuracy: 0.3287 - val_loss: 1.2277 - learning_rate: 0.0010\n",
            "Epoch 2/20\n",
            "\u001b[1m64/64\u001b[0m \u001b[32m━━━━━━━━━━━━━━━━━━━━\u001b[0m\u001b[37m\u001b[0m \u001b[1m22s\u001b[0m 337ms/step - accuracy: 0.7843 - loss: 0.4406 - val_accuracy: 0.7822 - val_loss: 0.5051 - learning_rate: 0.0010\n",
            "Epoch 3/20\n",
            "\u001b[1m64/64\u001b[0m \u001b[32m━━━━━━━━━━━━━━━━━━━━\u001b[0m\u001b[37m\u001b[0m \u001b[1m23s\u001b[0m 359ms/step - accuracy: 0.9275 - loss: 0.2451 - val_accuracy: 0.9327 - val_loss: 0.2639 - learning_rate: 0.0010\n",
            "Epoch 4/20\n",
            "\u001b[1m64/64\u001b[0m \u001b[32m━━━━━━━━━━━━━━━━━━━━\u001b[0m\u001b[37m\u001b[0m \u001b[1m23s\u001b[0m 352ms/step - accuracy: 0.9578 - loss: 0.1735 - val_accuracy: 0.9109 - val_loss: 0.2420 - learning_rate: 0.0010\n",
            "Epoch 5/20\n",
            "\u001b[1m64/64\u001b[0m \u001b[32m━━━━━━━━━━━━━━━━━━━━\u001b[0m\u001b[37m\u001b[0m \u001b[1m23s\u001b[0m 356ms/step - accuracy: 0.9603 - loss: 0.1258 - val_accuracy: 0.9347 - val_loss: 0.1913 - learning_rate: 0.0010\n",
            "Epoch 6/20\n",
            "\u001b[1m64/64\u001b[0m \u001b[32m━━━━━━━━━━━━━━━━━━━━\u001b[0m\u001b[37m\u001b[0m \u001b[1m23s\u001b[0m 356ms/step - accuracy: 0.9649 - loss: 0.1144 - val_accuracy: 0.9386 - val_loss: 0.1876 - learning_rate: 0.0010\n",
            "Epoch 7/20\n",
            "\u001b[1m64/64\u001b[0m \u001b[32m━━━━━━━━━━━━━━━━━━━━\u001b[0m\u001b[37m\u001b[0m \u001b[1m41s\u001b[0m 352ms/step - accuracy: 0.9579 - loss: 0.1171 - val_accuracy: 0.9525 - val_loss: 0.2493 - learning_rate: 0.0010\n",
            "Epoch 8/20\n",
            "\u001b[1m64/64\u001b[0m \u001b[32m━━━━━━━━━━━━━━━━━━━━\u001b[0m\u001b[37m\u001b[0m \u001b[1m21s\u001b[0m 327ms/step - accuracy: 0.9744 - loss: 0.0890 - val_accuracy: 0.9366 - val_loss: 0.1770 - learning_rate: 0.0010\n",
            "Epoch 9/20\n",
            "\u001b[1m64/64\u001b[0m \u001b[32m━━━━━━━━━━━━━━━━━━━━\u001b[0m\u001b[37m\u001b[0m \u001b[1m22s\u001b[0m 344ms/step - accuracy: 0.9677 - loss: 0.0967 - val_accuracy: 0.9446 - val_loss: 0.1702 - learning_rate: 0.0010\n",
            "Epoch 10/20\n",
            "\u001b[1m64/64\u001b[0m \u001b[32m━━━━━━━━━━━━━━━━━━━━\u001b[0m\u001b[37m\u001b[0m \u001b[1m41s\u001b[0m 351ms/step - accuracy: 0.9690 - loss: 0.1026 - val_accuracy: 0.9426 - val_loss: 0.1871 - learning_rate: 0.0010\n",
            "Epoch 11/20\n",
            "\u001b[1m64/64\u001b[0m \u001b[32m━━━━━━━━━━━━━━━━━━━━\u001b[0m\u001b[37m\u001b[0m \u001b[1m21s\u001b[0m 326ms/step - accuracy: 0.9696 - loss: 0.0809 - val_accuracy: 0.9327 - val_loss: 0.2226 - learning_rate: 0.0010\n",
            "Epoch 12/20\n",
            "\u001b[1m64/64\u001b[0m \u001b[32m━━━━━━━━━━━━━━━━━━━━\u001b[0m\u001b[37m\u001b[0m \u001b[1m42s\u001b[0m 347ms/step - accuracy: 0.9755 - loss: 0.0667 - val_accuracy: 0.9426 - val_loss: 0.1950 - learning_rate: 0.0010\n",
            "Epoch 13/20\n",
            "\u001b[1m64/64\u001b[0m \u001b[32m━━━━━━━━━━━━━━━━━━━━\u001b[0m\u001b[37m\u001b[0m \u001b[1m21s\u001b[0m 328ms/step - accuracy: 0.9689 - loss: 0.0755 - val_accuracy: 0.9366 - val_loss: 0.1712 - learning_rate: 5.0000e-04\n",
            "Epoch 14/20\n",
            "\u001b[1m64/64\u001b[0m \u001b[32m━━━━━━━━━━━━━━━━━━━━\u001b[0m\u001b[37m\u001b[0m \u001b[1m42s\u001b[0m 346ms/step - accuracy: 0.9760 - loss: 0.0706 - val_accuracy: 0.9347 - val_loss: 0.2102 - learning_rate: 5.0000e-04\n",
            "Training Accuracy: 0.974\n",
            "Validation Accuracy: 0.935\n"
          ]
        }
      ]
    },
    {
      "cell_type": "markdown",
      "metadata": {
        "id": "efa94d0b"
      },
      "source": [
        "# Task\n",
        "Explain the error in the provided Python code for image classification, fix the error if possible, and then proceed with evaluating the model, making predictions on new images, and saving the trained model. Also, determine and list the classifications present in the dataset."
      ]
    },
    {
      "cell_type": "markdown",
      "metadata": {
        "id": "b56794c1"
      },
      "source": [
        "## Prepare test data\n",
        "\n",
        "### Subtask:\n",
        "Create an `ImageDataGenerator` for the test set (if available) and load the test data.\n"
      ]
    },
    {
      "cell_type": "markdown",
      "metadata": {
        "id": "e71bcb1c"
      },
      "source": [
        "**Reasoning**:\n",
        "Check if a test set directory exists and create a test data generator and load the test data if it does.\n",
        "\n"
      ]
    },
    {
      "cell_type": "code",
      "metadata": {
        "colab": {
          "base_uri": "https://localhost:8080/"
        },
        "id": "96b7b94a",
        "outputId": "370b4141-1b99-4978-dfbc-0b651a66650e"
      },
      "source": [
        "test_dir = os.path.join(base_dir, 'test') # Assuming 'test' is the name of the test set folder\n",
        "\n",
        "if os.path.exists(test_dir):\n",
        "    print(\"Test set directory found. Preparing test data.\")\n",
        "    test_datagen = ImageDataGenerator(rescale=1./255)\n",
        "    test_data = test_datagen.flow_from_directory(\n",
        "        test_dir,\n",
        "        target_size=(96, 96),\n",
        "        batch_size=32,\n",
        "        class_mode='binary',\n",
        "        shuffle=False # Do not shuffle test data\n",
        "    )\n",
        "    print(\"Test data loaded successfully.\")\n",
        "else:\n",
        "    print(\"No dedicated test set directory found. Model evaluation will be performed on the validation set.\")\n",
        "    test_data = val_data # Use validation data for evaluation if no test set"
      ],
      "execution_count": 13,
      "outputs": [
        {
          "output_type": "stream",
          "name": "stdout",
          "text": [
            "No dedicated test set directory found. Model evaluation will be performed on the validation set.\n"
          ]
        }
      ]
    },
    {
      "cell_type": "markdown",
      "metadata": {
        "id": "63994778"
      },
      "source": [
        "## Evaluate the model\n",
        "\n",
        "### Subtask:\n",
        "Evaluate the trained model on the test data and print the results.\n"
      ]
    },
    {
      "cell_type": "markdown",
      "metadata": {
        "id": "706378fc"
      },
      "source": [
        "**Reasoning**:\n",
        "Evaluate the trained model using the test data (which is the validation data in this case) and print the loss and accuracy.\n",
        "\n"
      ]
    },
    {
      "cell_type": "code",
      "metadata": {
        "colab": {
          "base_uri": "https://localhost:8080/"
        },
        "id": "488b8e3d",
        "outputId": "41253570-7367-4df7-e228-9992c8196bfb"
      },
      "source": [
        "loss, accuracy = model.evaluate(test_data)\n",
        "print(f\"Test Loss: {loss:.3f}\")\n",
        "print(f\"Test Accuracy: {accuracy:.3f}\")"
      ],
      "execution_count": 14,
      "outputs": [
        {
          "output_type": "stream",
          "name": "stdout",
          "text": [
            "\u001b[1m16/16\u001b[0m \u001b[32m━━━━━━━━━━━━━━━━━━━━\u001b[0m\u001b[37m\u001b[0m \u001b[1m4s\u001b[0m 229ms/step - accuracy: 0.9352 - loss: 0.1915\n",
            "Test Loss: 0.173\n",
            "Test Accuracy: 0.947\n"
          ]
        }
      ]
    },
    {
      "cell_type": "markdown",
      "metadata": {
        "id": "f56a9cf3"
      },
      "source": [
        "## Prepare for prediction\n",
        "\n",
        "### Subtask:\n",
        "Create a function or code snippet to preprocess a single image for prediction.\n"
      ]
    },
    {
      "cell_type": "markdown",
      "metadata": {
        "id": "c7906500"
      },
      "source": [
        "**Reasoning**:\n",
        "Define a function to preprocess a single image for prediction as per the instructions.\n",
        "\n"
      ]
    },
    {
      "cell_type": "code",
      "metadata": {
        "id": "3f569c6d"
      },
      "source": [
        "import numpy as np\n",
        "from PIL import Image\n",
        "import tensorflow as tf\n",
        "\n",
        "def preprocess_image(image_path):\n",
        "    \"\"\"\n",
        "    Preprocesses a single image for prediction.\n",
        "\n",
        "    Args:\n",
        "        image_path (str): The path to the image file.\n",
        "\n",
        "    Returns:\n",
        "        np.ndarray: The preprocessed image array with batch dimension.\n",
        "    \"\"\"\n",
        "    img = Image.open(image_path).convert('RGB')\n",
        "    img = img.resize((96, 96))\n",
        "    img_array = np.array(img)\n",
        "    img_array = img_array / 255.0  # Normalize\n",
        "    img_array = np.expand_dims(img_array, axis=0)  # Add batch dimension\n",
        "    return img_array"
      ],
      "execution_count": 15,
      "outputs": []
    },
    {
      "cell_type": "markdown",
      "metadata": {
        "id": "9d0aafed"
      },
      "source": [
        "## Make predictions\n",
        "\n",
        "### Subtask:\n",
        "Use the trained model to make predictions on one or more new images.\n"
      ]
    },
    {
      "cell_type": "markdown",
      "metadata": {
        "id": "9f1128f0"
      },
      "source": [
        "**Reasoning**:\n",
        "Use the `preprocess_image` function to prepare an image for prediction, then use the trained model to predict the class of the image and interpret the result. Finally, print the classification labels from the training data for context.\n",
        "\n"
      ]
    },
    {
      "cell_type": "code",
      "metadata": {
        "colab": {
          "base_uri": "https://localhost:8080/"
        },
        "id": "8fce3fd1",
        "outputId": "68ba4cae-0722-4177-a011-3b4f702bda04"
      },
      "source": [
        "# Choose an image file path for prediction.\n",
        "# Replace 'path/to/your/image.jpg' with the actual path to an image file.\n",
        "# For demonstration, let's pick an image from the dataset if available.\n",
        "# We need to find an example image path from the organized dataset.\n",
        "\n",
        "# Let's list a few files from the organized dataset to pick one for prediction\n",
        "import random\n",
        "import os\n",
        "\n",
        "recyclable_dir = os.path.join(base_dir, 'recyclable')\n",
        "non_recyclable_dir = os.path.join(base_dir, 'non_recyclable')\n",
        "\n",
        "example_image_path = None\n",
        "\n",
        "if os.path.exists(recyclable_dir) and os.listdir(recyclable_dir):\n",
        "    example_image_path = os.path.join(recyclable_dir, random.choice(os.listdir(recyclable_dir)))\n",
        "    print(f\"Using example image from recyclable class: {example_image_path}\")\n",
        "elif os.path.exists(non_recyclable_dir) and os.listdir(non_recyclable_dir):\n",
        "    example_image_path = os.path.join(non_recyclable_dir, random.choice(os.listdir(non_recyclable_dir)))\n",
        "    print(f\"Using example image from non-recyclable class: {example_image_path}\")\n",
        "else:\n",
        "    print(\"No images found in the organized dataset directories.\")\n",
        "\n",
        "\n",
        "if example_image_path:\n",
        "    # Preprocess the image\n",
        "    preprocessed_image = preprocess_image(example_image_path)\n",
        "\n",
        "    # Make a prediction\n",
        "    prediction = model.predict(preprocessed_image)\n",
        "\n",
        "    # Interpret the prediction\n",
        "    # The output is a single value between 0 and 1\n",
        "    # Let's use a threshold of 0.5\n",
        "    threshold = 0.5\n",
        "\n",
        "    if prediction[0][0] >= threshold:\n",
        "        predicted_class = \"recyclable\"\n",
        "    else:\n",
        "        predicted_class = \"non-recyclable\"\n",
        "\n",
        "    print(f\"\\nPrediction for {example_image_path}: {prediction[0][0]:.4f}\")\n",
        "    print(f\"Classified as: {predicted_class}\")\n",
        "\n",
        "# Print the classifications present in the dataset\n",
        "print(\"\\nDataset Classifications:\")\n",
        "print(train_data.class_indices)"
      ],
      "execution_count": 16,
      "outputs": [
        {
          "output_type": "stream",
          "name": "stdout",
          "text": [
            "Using example image from recyclable class: recyclable_dataset/recyclable/paper_paper166.jpg\n",
            "\u001b[1m1/1\u001b[0m \u001b[32m━━━━━━━━━━━━━━━━━━━━\u001b[0m\u001b[37m\u001b[0m \u001b[1m1s\u001b[0m 1s/step\n",
            "\n",
            "Prediction for recyclable_dataset/recyclable/paper_paper166.jpg: 0.9860\n",
            "Classified as: recyclable\n",
            "\n",
            "Dataset Classifications:\n",
            "{'non_recyclable': 0, 'recyclable': 1}\n"
          ]
        }
      ]
    },
    {
      "cell_type": "markdown",
      "metadata": {
        "id": "0dd67839"
      },
      "source": [
        "## Save the model\n",
        "\n",
        "### Subtask:\n",
        "Save the trained model to a file.\n"
      ]
    },
    {
      "cell_type": "markdown",
      "metadata": {
        "id": "fe50f237"
      },
      "source": [
        "**Reasoning**:\n",
        "Save the trained model to a file using the Keras save method in HDF5 format.\n",
        "\n"
      ]
    },
    {
      "cell_type": "code",
      "metadata": {
        "colab": {
          "base_uri": "https://localhost:8080/"
        },
        "id": "6813dbfd",
        "outputId": "96c6d5b6-ff14-4aa0-bd5f-aab4c10e2a4c"
      },
      "source": [
        "model.save('recyclable_classifier_model.h5')\n",
        "print(\"Model saved as recyclable_classifier_model.h5\")"
      ],
      "execution_count": 17,
      "outputs": [
        {
          "output_type": "stream",
          "name": "stderr",
          "text": [
            "WARNING:absl:You are saving your model as an HDF5 file via `model.save()` or `keras.saving.save_model(model)`. This file format is considered legacy. We recommend using instead the native Keras format, e.g. `model.save('my_model.keras')` or `keras.saving.save_model(model, 'my_model.keras')`. \n"
          ]
        },
        {
          "output_type": "stream",
          "name": "stdout",
          "text": [
            "Model saved as recyclable_classifier_model.h5\n"
          ]
        }
      ]
    },
    {
      "cell_type": "code",
      "source": [
        "# 🔁 Convert model to TensorFlow Lite\n",
        "import tensorflow as tf\n",
        "\n",
        "converter = tf.lite.TFLiteConverter.from_keras_model(model)\n",
        "tflite_model = converter.convert()\n",
        "\n",
        "# Save the TFLite model\n",
        "with open(\"recyclable_classifier.tflite\", \"wb\") as f:\n",
        "    f.write(tflite_model)\n",
        "\n",
        "print(\"✅ TFLite model saved as recyclable_classifier.tflite\")"
      ],
      "metadata": {
        "colab": {
          "base_uri": "https://localhost:8080/"
        },
        "id": "5K5DkLbu1vjs",
        "outputId": "cf618025-752f-4382-9a5b-41c85af6b3de"
      },
      "execution_count": 18,
      "outputs": [
        {
          "output_type": "stream",
          "name": "stdout",
          "text": [
            "Saved artifact at '/tmp/tmp_dt_bas6'. The following endpoints are available:\n",
            "\n",
            "* Endpoint 'serve'\n",
            "  args_0 (POSITIONAL_ONLY): TensorSpec(shape=(None, 96, 96, 3), dtype=tf.float32, name='keras_tensor_315')\n",
            "Output Type:\n",
            "  TensorSpec(shape=(None, 1), dtype=tf.float32, name=None)\n",
            "Captures:\n",
            "  136645190868752: TensorSpec(shape=(), dtype=tf.resource, name=None)\n",
            "  136645190868560: TensorSpec(shape=(), dtype=tf.resource, name=None)\n",
            "  136645190864912: TensorSpec(shape=(), dtype=tf.resource, name=None)\n",
            "  136645190865104: TensorSpec(shape=(), dtype=tf.resource, name=None)\n",
            "  136645190868368: TensorSpec(shape=(), dtype=tf.resource, name=None)\n",
            "  136645190870288: TensorSpec(shape=(), dtype=tf.resource, name=None)\n",
            "  136645190869904: TensorSpec(shape=(), dtype=tf.resource, name=None)\n",
            "  136645190871056: TensorSpec(shape=(), dtype=tf.resource, name=None)\n",
            "  136645190869712: TensorSpec(shape=(), dtype=tf.resource, name=None)\n",
            "  136645190866640: TensorSpec(shape=(), dtype=tf.resource, name=None)\n",
            "  136645190872208: TensorSpec(shape=(), dtype=tf.resource, name=None)\n",
            "  136645190872592: TensorSpec(shape=(), dtype=tf.resource, name=None)\n",
            "  136645190872976: TensorSpec(shape=(), dtype=tf.resource, name=None)\n",
            "  136645190872784: TensorSpec(shape=(), dtype=tf.resource, name=None)\n",
            "  136645190867984: TensorSpec(shape=(), dtype=tf.resource, name=None)\n",
            "  136645190874128: TensorSpec(shape=(), dtype=tf.resource, name=None)\n",
            "  136645190874512: TensorSpec(shape=(), dtype=tf.resource, name=None)\n",
            "  136645190874896: TensorSpec(shape=(), dtype=tf.resource, name=None)\n",
            "  136645190874704: TensorSpec(shape=(), dtype=tf.resource, name=None)\n",
            "  136645190869520: TensorSpec(shape=(), dtype=tf.resource, name=None)\n",
            "  136645190876048: TensorSpec(shape=(), dtype=tf.resource, name=None)\n",
            "  136645190875664: TensorSpec(shape=(), dtype=tf.resource, name=None)\n",
            "  136645190873744: TensorSpec(shape=(), dtype=tf.resource, name=None)\n",
            "  136645190876624: TensorSpec(shape=(), dtype=tf.resource, name=None)\n",
            "  136645190871824: TensorSpec(shape=(), dtype=tf.resource, name=None)\n",
            "  136645190875280: TensorSpec(shape=(), dtype=tf.resource, name=None)\n",
            "  136645046174928: TensorSpec(shape=(), dtype=tf.resource, name=None)\n",
            "  136645046173968: TensorSpec(shape=(), dtype=tf.resource, name=None)\n",
            "  136645046174736: TensorSpec(shape=(), dtype=tf.resource, name=None)\n",
            "  136645046173776: TensorSpec(shape=(), dtype=tf.resource, name=None)\n",
            "  136645046176464: TensorSpec(shape=(), dtype=tf.resource, name=None)\n",
            "  136645046176848: TensorSpec(shape=(), dtype=tf.resource, name=None)\n",
            "  136645046177232: TensorSpec(shape=(), dtype=tf.resource, name=None)\n",
            "  136645046177040: TensorSpec(shape=(), dtype=tf.resource, name=None)\n",
            "  136645046174160: TensorSpec(shape=(), dtype=tf.resource, name=None)\n",
            "  136645046178384: TensorSpec(shape=(), dtype=tf.resource, name=None)\n",
            "  136645046178768: TensorSpec(shape=(), dtype=tf.resource, name=None)\n",
            "  136645046179152: TensorSpec(shape=(), dtype=tf.resource, name=None)\n",
            "  136645046178960: TensorSpec(shape=(), dtype=tf.resource, name=None)\n",
            "  136645046175312: TensorSpec(shape=(), dtype=tf.resource, name=None)\n",
            "  136645046180304: TensorSpec(shape=(), dtype=tf.resource, name=None)\n",
            "  136645046180688: TensorSpec(shape=(), dtype=tf.resource, name=None)\n",
            "  136645046181072: TensorSpec(shape=(), dtype=tf.resource, name=None)\n",
            "  136645046180880: TensorSpec(shape=(), dtype=tf.resource, name=None)\n",
            "  136645046176080: TensorSpec(shape=(), dtype=tf.resource, name=None)\n",
            "  136645046182224: TensorSpec(shape=(), dtype=tf.resource, name=None)\n",
            "  136645046182608: TensorSpec(shape=(), dtype=tf.resource, name=None)\n",
            "  136645046182992: TensorSpec(shape=(), dtype=tf.resource, name=None)\n",
            "  136645046182800: TensorSpec(shape=(), dtype=tf.resource, name=None)\n",
            "  136645046178000: TensorSpec(shape=(), dtype=tf.resource, name=None)\n",
            "  136645046184144: TensorSpec(shape=(), dtype=tf.resource, name=None)\n",
            "  136645046184528: TensorSpec(shape=(), dtype=tf.resource, name=None)\n",
            "  136645046184912: TensorSpec(shape=(), dtype=tf.resource, name=None)\n",
            "  136645046184720: TensorSpec(shape=(), dtype=tf.resource, name=None)\n",
            "  136645046179920: TensorSpec(shape=(), dtype=tf.resource, name=None)\n",
            "  136645046186064: TensorSpec(shape=(), dtype=tf.resource, name=None)\n",
            "  136645046186448: TensorSpec(shape=(), dtype=tf.resource, name=None)\n",
            "  136645046186832: TensorSpec(shape=(), dtype=tf.resource, name=None)\n",
            "  136645046186640: TensorSpec(shape=(), dtype=tf.resource, name=None)\n",
            "  136645046181840: TensorSpec(shape=(), dtype=tf.resource, name=None)\n",
            "  136645046187984: TensorSpec(shape=(), dtype=tf.resource, name=None)\n",
            "  136645046188368: TensorSpec(shape=(), dtype=tf.resource, name=None)\n",
            "  136645046188752: TensorSpec(shape=(), dtype=tf.resource, name=None)\n",
            "  136645046188560: TensorSpec(shape=(), dtype=tf.resource, name=None)\n",
            "  136645046183760: TensorSpec(shape=(), dtype=tf.resource, name=None)\n",
            "  136645046189904: TensorSpec(shape=(), dtype=tf.resource, name=None)\n",
            "  136645046185680: TensorSpec(shape=(), dtype=tf.resource, name=None)\n",
            "  136645046650064: TensorSpec(shape=(), dtype=tf.resource, name=None)\n",
            "  136645046189520: TensorSpec(shape=(), dtype=tf.resource, name=None)\n",
            "  136645046187600: TensorSpec(shape=(), dtype=tf.resource, name=None)\n",
            "  136645046650640: TensorSpec(shape=(), dtype=tf.resource, name=None)\n",
            "  136645046651024: TensorSpec(shape=(), dtype=tf.resource, name=None)\n",
            "  136645046651408: TensorSpec(shape=(), dtype=tf.resource, name=None)\n",
            "  136645046651216: TensorSpec(shape=(), dtype=tf.resource, name=None)\n",
            "  136645046649872: TensorSpec(shape=(), dtype=tf.resource, name=None)\n",
            "  136645046652560: TensorSpec(shape=(), dtype=tf.resource, name=None)\n",
            "  136645046652944: TensorSpec(shape=(), dtype=tf.resource, name=None)\n",
            "  136645046653328: TensorSpec(shape=(), dtype=tf.resource, name=None)\n",
            "  136645046653136: TensorSpec(shape=(), dtype=tf.resource, name=None)\n",
            "  136645046649104: TensorSpec(shape=(), dtype=tf.resource, name=None)\n",
            "  136645046654480: TensorSpec(shape=(), dtype=tf.resource, name=None)\n",
            "  136645046654864: TensorSpec(shape=(), dtype=tf.resource, name=None)\n",
            "  136645046655248: TensorSpec(shape=(), dtype=tf.resource, name=None)\n",
            "  136645046655056: TensorSpec(shape=(), dtype=tf.resource, name=None)\n",
            "  136645046649296: TensorSpec(shape=(), dtype=tf.resource, name=None)\n",
            "  136645046656400: TensorSpec(shape=(), dtype=tf.resource, name=None)\n",
            "  136645046656784: TensorSpec(shape=(), dtype=tf.resource, name=None)\n",
            "  136645046657168: TensorSpec(shape=(), dtype=tf.resource, name=None)\n",
            "  136645046656976: TensorSpec(shape=(), dtype=tf.resource, name=None)\n",
            "  136645046652176: TensorSpec(shape=(), dtype=tf.resource, name=None)\n",
            "  136645046658320: TensorSpec(shape=(), dtype=tf.resource, name=None)\n",
            "  136645046658704: TensorSpec(shape=(), dtype=tf.resource, name=None)\n",
            "  136645046659088: TensorSpec(shape=(), dtype=tf.resource, name=None)\n",
            "  136645046658896: TensorSpec(shape=(), dtype=tf.resource, name=None)\n",
            "  136645046654096: TensorSpec(shape=(), dtype=tf.resource, name=None)\n",
            "  136645046660048: TensorSpec(shape=(), dtype=tf.resource, name=None)\n",
            "  136645046660432: TensorSpec(shape=(), dtype=tf.resource, name=None)\n",
            "  136645046660816: TensorSpec(shape=(), dtype=tf.resource, name=None)\n",
            "  136645046660624: TensorSpec(shape=(), dtype=tf.resource, name=None)\n",
            "  136645046656016: TensorSpec(shape=(), dtype=tf.resource, name=None)\n",
            "  136645046661968: TensorSpec(shape=(), dtype=tf.resource, name=None)\n",
            "  136645046662352: TensorSpec(shape=(), dtype=tf.resource, name=None)\n",
            "  136645046662736: TensorSpec(shape=(), dtype=tf.resource, name=None)\n",
            "  136645046662544: TensorSpec(shape=(), dtype=tf.resource, name=None)\n",
            "  136645046659664: TensorSpec(shape=(), dtype=tf.resource, name=None)\n",
            "  136645046663888: TensorSpec(shape=(), dtype=tf.resource, name=None)\n",
            "  136645046664272: TensorSpec(shape=(), dtype=tf.resource, name=None)\n",
            "  136645046665040: TensorSpec(shape=(), dtype=tf.resource, name=None)\n",
            "  136645046664464: TensorSpec(shape=(), dtype=tf.resource, name=None)\n",
            "  136645046657936: TensorSpec(shape=(), dtype=tf.resource, name=None)\n",
            "  136645046649488: TensorSpec(shape=(), dtype=tf.resource, name=None)\n",
            "  136645047059472: TensorSpec(shape=(), dtype=tf.resource, name=None)\n",
            "  136645047058512: TensorSpec(shape=(), dtype=tf.resource, name=None)\n",
            "  136645046661584: TensorSpec(shape=(), dtype=tf.resource, name=None)\n",
            "  136645047058704: TensorSpec(shape=(), dtype=tf.resource, name=None)\n",
            "  136645047061008: TensorSpec(shape=(), dtype=tf.resource, name=None)\n",
            "  136645047061392: TensorSpec(shape=(), dtype=tf.resource, name=None)\n",
            "  136645047061776: TensorSpec(shape=(), dtype=tf.resource, name=None)\n",
            "  136645047061584: TensorSpec(shape=(), dtype=tf.resource, name=None)\n",
            "  136645047058896: TensorSpec(shape=(), dtype=tf.resource, name=None)\n",
            "  136645047062928: TensorSpec(shape=(), dtype=tf.resource, name=None)\n",
            "  136645047063312: TensorSpec(shape=(), dtype=tf.resource, name=None)\n",
            "  136645047063696: TensorSpec(shape=(), dtype=tf.resource, name=None)\n",
            "  136645047063504: TensorSpec(shape=(), dtype=tf.resource, name=None)\n",
            "  136645047059856: TensorSpec(shape=(), dtype=tf.resource, name=None)\n",
            "  136645047064848: TensorSpec(shape=(), dtype=tf.resource, name=None)\n",
            "  136645047065232: TensorSpec(shape=(), dtype=tf.resource, name=None)\n",
            "  136645047065616: TensorSpec(shape=(), dtype=tf.resource, name=None)\n",
            "  136645047065424: TensorSpec(shape=(), dtype=tf.resource, name=None)\n",
            "  136645047060624: TensorSpec(shape=(), dtype=tf.resource, name=None)\n",
            "  136645047066768: TensorSpec(shape=(), dtype=tf.resource, name=None)\n",
            "  136645047067152: TensorSpec(shape=(), dtype=tf.resource, name=None)\n",
            "  136645047067536: TensorSpec(shape=(), dtype=tf.resource, name=None)\n",
            "  136645047067344: TensorSpec(shape=(), dtype=tf.resource, name=None)\n",
            "  136645047062544: TensorSpec(shape=(), dtype=tf.resource, name=None)\n",
            "  136645047068688: TensorSpec(shape=(), dtype=tf.resource, name=None)\n",
            "  136645047069072: TensorSpec(shape=(), dtype=tf.resource, name=None)\n",
            "  136645047069456: TensorSpec(shape=(), dtype=tf.resource, name=None)\n",
            "  136645047069264: TensorSpec(shape=(), dtype=tf.resource, name=None)\n",
            "  136645047064464: TensorSpec(shape=(), dtype=tf.resource, name=None)\n",
            "  136645047070608: TensorSpec(shape=(), dtype=tf.resource, name=None)\n",
            "  136645047070992: TensorSpec(shape=(), dtype=tf.resource, name=None)\n",
            "  136645047071376: TensorSpec(shape=(), dtype=tf.resource, name=None)\n",
            "  136645047071184: TensorSpec(shape=(), dtype=tf.resource, name=None)\n",
            "  136645047066384: TensorSpec(shape=(), dtype=tf.resource, name=None)\n",
            "  136645047072528: TensorSpec(shape=(), dtype=tf.resource, name=None)\n",
            "  136645047072912: TensorSpec(shape=(), dtype=tf.resource, name=None)\n",
            "  136645047073296: TensorSpec(shape=(), dtype=tf.resource, name=None)\n",
            "  136645047073104: TensorSpec(shape=(), dtype=tf.resource, name=None)\n",
            "  136645047068304: TensorSpec(shape=(), dtype=tf.resource, name=None)\n",
            "  136645047074448: TensorSpec(shape=(), dtype=tf.resource, name=None)\n",
            "  136645047059280: TensorSpec(shape=(), dtype=tf.resource, name=None)\n",
            "  136645045338384: TensorSpec(shape=(), dtype=tf.resource, name=None)\n",
            "  136645047074064: TensorSpec(shape=(), dtype=tf.resource, name=None)\n",
            "  136645047072144: TensorSpec(shape=(), dtype=tf.resource, name=None)\n",
            "  136645045339728: TensorSpec(shape=(), dtype=tf.resource, name=None)\n",
            "  136645045340112: TensorSpec(shape=(), dtype=tf.resource, name=None)\n",
            "  136645045340496: TensorSpec(shape=(), dtype=tf.resource, name=None)\n",
            "  136645045340304: TensorSpec(shape=(), dtype=tf.resource, name=None)\n",
            "  136645045338576: TensorSpec(shape=(), dtype=tf.resource, name=None)\n",
            "  136645045341648: TensorSpec(shape=(), dtype=tf.resource, name=None)\n",
            "  136645045342032: TensorSpec(shape=(), dtype=tf.resource, name=None)\n",
            "  136645045342416: TensorSpec(shape=(), dtype=tf.resource, name=None)\n",
            "  136645045342224: TensorSpec(shape=(), dtype=tf.resource, name=None)\n",
            "  136645045339152: TensorSpec(shape=(), dtype=tf.resource, name=None)\n",
            "  136645045343568: TensorSpec(shape=(), dtype=tf.resource, name=None)\n",
            "  136645045343952: TensorSpec(shape=(), dtype=tf.resource, name=None)\n",
            "  136645045344336: TensorSpec(shape=(), dtype=tf.resource, name=None)\n",
            "  136645045344144: TensorSpec(shape=(), dtype=tf.resource, name=None)\n",
            "  136645045338960: TensorSpec(shape=(), dtype=tf.resource, name=None)\n",
            "  136645045345488: TensorSpec(shape=(), dtype=tf.resource, name=None)\n",
            "  136645045345872: TensorSpec(shape=(), dtype=tf.resource, name=None)\n",
            "  136645045346256: TensorSpec(shape=(), dtype=tf.resource, name=None)\n",
            "  136645045346064: TensorSpec(shape=(), dtype=tf.resource, name=None)\n",
            "  136645045341264: TensorSpec(shape=(), dtype=tf.resource, name=None)\n",
            "  136645045347408: TensorSpec(shape=(), dtype=tf.resource, name=None)\n",
            "  136645045347792: TensorSpec(shape=(), dtype=tf.resource, name=None)\n",
            "  136645045348176: TensorSpec(shape=(), dtype=tf.resource, name=None)\n",
            "  136645045347984: TensorSpec(shape=(), dtype=tf.resource, name=None)\n",
            "  136645045343184: TensorSpec(shape=(), dtype=tf.resource, name=None)\n",
            "  136645045349328: TensorSpec(shape=(), dtype=tf.resource, name=None)\n",
            "  136645045349712: TensorSpec(shape=(), dtype=tf.resource, name=None)\n",
            "  136645045350096: TensorSpec(shape=(), dtype=tf.resource, name=None)\n",
            "  136645045349904: TensorSpec(shape=(), dtype=tf.resource, name=None)\n",
            "  136645045345104: TensorSpec(shape=(), dtype=tf.resource, name=None)\n",
            "  136645045351248: TensorSpec(shape=(), dtype=tf.resource, name=None)\n",
            "  136645045351632: TensorSpec(shape=(), dtype=tf.resource, name=None)\n",
            "  136645045352016: TensorSpec(shape=(), dtype=tf.resource, name=None)\n",
            "  136645045351824: TensorSpec(shape=(), dtype=tf.resource, name=None)\n",
            "  136645045347024: TensorSpec(shape=(), dtype=tf.resource, name=None)\n",
            "  136645045353168: TensorSpec(shape=(), dtype=tf.resource, name=None)\n",
            "  136645045353552: TensorSpec(shape=(), dtype=tf.resource, name=None)\n",
            "  136645045354320: TensorSpec(shape=(), dtype=tf.resource, name=None)\n",
            "  136645045353744: TensorSpec(shape=(), dtype=tf.resource, name=None)\n",
            "  136645045348944: TensorSpec(shape=(), dtype=tf.resource, name=None)\n",
            "  136645045339344: TensorSpec(shape=(), dtype=tf.resource, name=None)\n",
            "  136645045781520: TensorSpec(shape=(), dtype=tf.resource, name=None)\n",
            "  136645045780560: TensorSpec(shape=(), dtype=tf.resource, name=None)\n",
            "  136645045350864: TensorSpec(shape=(), dtype=tf.resource, name=None)\n",
            "  136645045781904: TensorSpec(shape=(), dtype=tf.resource, name=None)\n",
            "  136645045783056: TensorSpec(shape=(), dtype=tf.resource, name=None)\n",
            "  136645045783440: TensorSpec(shape=(), dtype=tf.resource, name=None)\n",
            "  136645045783824: TensorSpec(shape=(), dtype=tf.resource, name=None)\n",
            "  136645045783632: TensorSpec(shape=(), dtype=tf.resource, name=None)\n",
            "  136645045780944: TensorSpec(shape=(), dtype=tf.resource, name=None)\n",
            "  136645045784976: TensorSpec(shape=(), dtype=tf.resource, name=None)\n",
            "  136645045785360: TensorSpec(shape=(), dtype=tf.resource, name=None)\n",
            "  136645045785744: TensorSpec(shape=(), dtype=tf.resource, name=None)\n",
            "  136645045785552: TensorSpec(shape=(), dtype=tf.resource, name=None)\n",
            "  136645045781136: TensorSpec(shape=(), dtype=tf.resource, name=None)\n",
            "  136645045786896: TensorSpec(shape=(), dtype=tf.resource, name=None)\n",
            "  136645045787280: TensorSpec(shape=(), dtype=tf.resource, name=None)\n",
            "  136645045787664: TensorSpec(shape=(), dtype=tf.resource, name=None)\n",
            "  136645045787472: TensorSpec(shape=(), dtype=tf.resource, name=None)\n",
            "  136645045782672: TensorSpec(shape=(), dtype=tf.resource, name=None)\n",
            "  136645045788816: TensorSpec(shape=(), dtype=tf.resource, name=None)\n",
            "  136645045789200: TensorSpec(shape=(), dtype=tf.resource, name=None)\n",
            "  136645045789584: TensorSpec(shape=(), dtype=tf.resource, name=None)\n",
            "  136645045789392: TensorSpec(shape=(), dtype=tf.resource, name=None)\n",
            "  136645045784592: TensorSpec(shape=(), dtype=tf.resource, name=None)\n",
            "  136645045790736: TensorSpec(shape=(), dtype=tf.resource, name=None)\n",
            "  136645045791120: TensorSpec(shape=(), dtype=tf.resource, name=None)\n",
            "  136645045791504: TensorSpec(shape=(), dtype=tf.resource, name=None)\n",
            "  136645045791312: TensorSpec(shape=(), dtype=tf.resource, name=None)\n",
            "  136645045786512: TensorSpec(shape=(), dtype=tf.resource, name=None)\n",
            "  136645045792656: TensorSpec(shape=(), dtype=tf.resource, name=None)\n",
            "  136645045793040: TensorSpec(shape=(), dtype=tf.resource, name=None)\n",
            "  136645045793424: TensorSpec(shape=(), dtype=tf.resource, name=None)\n",
            "  136645045793232: TensorSpec(shape=(), dtype=tf.resource, name=None)\n",
            "  136645045788432: TensorSpec(shape=(), dtype=tf.resource, name=None)\n",
            "  136645045794576: TensorSpec(shape=(), dtype=tf.resource, name=None)\n",
            "  136645045794960: TensorSpec(shape=(), dtype=tf.resource, name=None)\n",
            "  136645045795344: TensorSpec(shape=(), dtype=tf.resource, name=None)\n",
            "  136645045795152: TensorSpec(shape=(), dtype=tf.resource, name=None)\n",
            "  136645045790352: TensorSpec(shape=(), dtype=tf.resource, name=None)\n",
            "  136645045796496: TensorSpec(shape=(), dtype=tf.resource, name=None)\n",
            "  136645045781712: TensorSpec(shape=(), dtype=tf.resource, name=None)\n",
            "  136645044077008: TensorSpec(shape=(), dtype=tf.resource, name=None)\n",
            "  136645045796112: TensorSpec(shape=(), dtype=tf.resource, name=None)\n",
            "  136645045794192: TensorSpec(shape=(), dtype=tf.resource, name=None)\n",
            "  136645044078160: TensorSpec(shape=(), dtype=tf.resource, name=None)\n",
            "  136645044078544: TensorSpec(shape=(), dtype=tf.resource, name=None)\n",
            "  136645044078928: TensorSpec(shape=(), dtype=tf.resource, name=None)\n",
            "  136645044078736: TensorSpec(shape=(), dtype=tf.resource, name=None)\n",
            "  136645044077392: TensorSpec(shape=(), dtype=tf.resource, name=None)\n",
            "  136645044080080: TensorSpec(shape=(), dtype=tf.resource, name=None)\n",
            "  136645044080464: TensorSpec(shape=(), dtype=tf.resource, name=None)\n",
            "  136645044080848: TensorSpec(shape=(), dtype=tf.resource, name=None)\n",
            "  136645044080656: TensorSpec(shape=(), dtype=tf.resource, name=None)\n",
            "  136645044077584: TensorSpec(shape=(), dtype=tf.resource, name=None)\n",
            "  136645044082000: TensorSpec(shape=(), dtype=tf.resource, name=None)\n",
            "  136645044082384: TensorSpec(shape=(), dtype=tf.resource, name=None)\n",
            "  136645044082768: TensorSpec(shape=(), dtype=tf.resource, name=None)\n",
            "  136645044082576: TensorSpec(shape=(), dtype=tf.resource, name=None)\n",
            "  136645044076816: TensorSpec(shape=(), dtype=tf.resource, name=None)\n",
            "  136645044083920: TensorSpec(shape=(), dtype=tf.resource, name=None)\n",
            "  136645044084304: TensorSpec(shape=(), dtype=tf.resource, name=None)\n",
            "  136645044084688: TensorSpec(shape=(), dtype=tf.resource, name=None)\n",
            "  136645044084496: TensorSpec(shape=(), dtype=tf.resource, name=None)\n",
            "  136645044079696: TensorSpec(shape=(), dtype=tf.resource, name=None)\n",
            "  136645044077776: TensorSpec(shape=(), dtype=tf.resource, name=None)\n",
            "  136645044086992: TensorSpec(shape=(), dtype=tf.resource, name=None)\n",
            "  136645044087184: TensorSpec(shape=(), dtype=tf.resource, name=None)\n",
            "  136645044086416: TensorSpec(shape=(), dtype=tf.resource, name=None)\n",
            "  136645044085072: TensorSpec(shape=(), dtype=tf.resource, name=None)\n",
            "  136645044086800: TensorSpec(shape=(), dtype=tf.resource, name=None)\n",
            "  136645044088720: TensorSpec(shape=(), dtype=tf.resource, name=None)\n",
            "  136645044089296: TensorSpec(shape=(), dtype=tf.resource, name=None)\n",
            "✅ TFLite model saved as recyclable_classifier.tflite\n"
          ]
        }
      ]
    },
    {
      "cell_type": "code",
      "source": [
        "from PIL import Image\n",
        "import numpy as np\n",
        "from google.colab import files\n",
        "\n",
        "# Upload a sample image\n",
        "print(\"📤 Upload a sample image (JPG or PNG)...\")\n",
        "uploaded = files.upload()\n",
        "\n",
        "# Assume the image is named sample_image.jpg\n",
        "image_path = list(uploaded.keys())[0]\n",
        "\n",
        "# Preprocess\n",
        "img = Image.open(image_path).resize((96, 96))\n",
        "img = np.array(img).astype(np.float32) / 255.0\n",
        "input_data = np.expand_dims(img, axis=0)\n",
        "\n",
        "# Load and run TFLite model\n",
        "interpreter = tf.lite.Interpreter(model_path=\"recyclable_classifier.tflite\")\n",
        "interpreter.allocate_tensors()\n",
        "\n",
        "input_index = interpreter.get_input_details()[0]['index']\n",
        "output_index = interpreter.get_output_details()[0]['index']\n",
        "\n",
        "interpreter.set_tensor(input_index, input_data)\n",
        "interpreter.invoke()\n",
        "output = interpreter.get_tensor(output_index)\n",
        "\n",
        "# Print prediction\n",
        "prediction = \"Recyclable\" if output[0][0] > 0.5 else \"Non-Recyclable\"\n",
        "print(f\"Prediction: {prediction} (Confidence: {output[0][0]:.3f})\")"
      ],
      "metadata": {
        "colab": {
          "base_uri": "https://localhost:8080/",
          "height": 142
        },
        "id": "Pgp4BC5TGJ8Y",
        "outputId": "b2b27666-5652-4688-9912-31f446de796e"
      },
      "execution_count": 19,
      "outputs": [
        {
          "output_type": "stream",
          "name": "stdout",
          "text": [
            "📤 Upload a sample image (JPG or PNG)...\n"
          ]
        },
        {
          "output_type": "display_data",
          "data": {
            "text/plain": [
              "<IPython.core.display.HTML object>"
            ],
            "text/html": [
              "\n",
              "     <input type=\"file\" id=\"files-161d1499-3f80-499f-9a84-78219a686895\" name=\"files[]\" multiple disabled\n",
              "        style=\"border:none\" />\n",
              "     <output id=\"result-161d1499-3f80-499f-9a84-78219a686895\">\n",
              "      Upload widget is only available when the cell has been executed in the\n",
              "      current browser session. Please rerun this cell to enable.\n",
              "      </output>\n",
              "      <script>// Copyright 2017 Google LLC\n",
              "//\n",
              "// Licensed under the Apache License, Version 2.0 (the \"License\");\n",
              "// you may not use this file except in compliance with the License.\n",
              "// You may obtain a copy of the License at\n",
              "//\n",
              "//      http://www.apache.org/licenses/LICENSE-2.0\n",
              "//\n",
              "// Unless required by applicable law or agreed to in writing, software\n",
              "// distributed under the License is distributed on an \"AS IS\" BASIS,\n",
              "// WITHOUT WARRANTIES OR CONDITIONS OF ANY KIND, either express or implied.\n",
              "// See the License for the specific language governing permissions and\n",
              "// limitations under the License.\n",
              "\n",
              "/**\n",
              " * @fileoverview Helpers for google.colab Python module.\n",
              " */\n",
              "(function(scope) {\n",
              "function span(text, styleAttributes = {}) {\n",
              "  const element = document.createElement('span');\n",
              "  element.textContent = text;\n",
              "  for (const key of Object.keys(styleAttributes)) {\n",
              "    element.style[key] = styleAttributes[key];\n",
              "  }\n",
              "  return element;\n",
              "}\n",
              "\n",
              "// Max number of bytes which will be uploaded at a time.\n",
              "const MAX_PAYLOAD_SIZE = 100 * 1024;\n",
              "\n",
              "function _uploadFiles(inputId, outputId) {\n",
              "  const steps = uploadFilesStep(inputId, outputId);\n",
              "  const outputElement = document.getElementById(outputId);\n",
              "  // Cache steps on the outputElement to make it available for the next call\n",
              "  // to uploadFilesContinue from Python.\n",
              "  outputElement.steps = steps;\n",
              "\n",
              "  return _uploadFilesContinue(outputId);\n",
              "}\n",
              "\n",
              "// This is roughly an async generator (not supported in the browser yet),\n",
              "// where there are multiple asynchronous steps and the Python side is going\n",
              "// to poll for completion of each step.\n",
              "// This uses a Promise to block the python side on completion of each step,\n",
              "// then passes the result of the previous step as the input to the next step.\n",
              "function _uploadFilesContinue(outputId) {\n",
              "  const outputElement = document.getElementById(outputId);\n",
              "  const steps = outputElement.steps;\n",
              "\n",
              "  const next = steps.next(outputElement.lastPromiseValue);\n",
              "  return Promise.resolve(next.value.promise).then((value) => {\n",
              "    // Cache the last promise value to make it available to the next\n",
              "    // step of the generator.\n",
              "    outputElement.lastPromiseValue = value;\n",
              "    return next.value.response;\n",
              "  });\n",
              "}\n",
              "\n",
              "/**\n",
              " * Generator function which is called between each async step of the upload\n",
              " * process.\n",
              " * @param {string} inputId Element ID of the input file picker element.\n",
              " * @param {string} outputId Element ID of the output display.\n",
              " * @return {!Iterable<!Object>} Iterable of next steps.\n",
              " */\n",
              "function* uploadFilesStep(inputId, outputId) {\n",
              "  const inputElement = document.getElementById(inputId);\n",
              "  inputElement.disabled = false;\n",
              "\n",
              "  const outputElement = document.getElementById(outputId);\n",
              "  outputElement.innerHTML = '';\n",
              "\n",
              "  const pickedPromise = new Promise((resolve) => {\n",
              "    inputElement.addEventListener('change', (e) => {\n",
              "      resolve(e.target.files);\n",
              "    });\n",
              "  });\n",
              "\n",
              "  const cancel = document.createElement('button');\n",
              "  inputElement.parentElement.appendChild(cancel);\n",
              "  cancel.textContent = 'Cancel upload';\n",
              "  const cancelPromise = new Promise((resolve) => {\n",
              "    cancel.onclick = () => {\n",
              "      resolve(null);\n",
              "    };\n",
              "  });\n",
              "\n",
              "  // Wait for the user to pick the files.\n",
              "  const files = yield {\n",
              "    promise: Promise.race([pickedPromise, cancelPromise]),\n",
              "    response: {\n",
              "      action: 'starting',\n",
              "    }\n",
              "  };\n",
              "\n",
              "  cancel.remove();\n",
              "\n",
              "  // Disable the input element since further picks are not allowed.\n",
              "  inputElement.disabled = true;\n",
              "\n",
              "  if (!files) {\n",
              "    return {\n",
              "      response: {\n",
              "        action: 'complete',\n",
              "      }\n",
              "    };\n",
              "  }\n",
              "\n",
              "  for (const file of files) {\n",
              "    const li = document.createElement('li');\n",
              "    li.append(span(file.name, {fontWeight: 'bold'}));\n",
              "    li.append(span(\n",
              "        `(${file.type || 'n/a'}) - ${file.size} bytes, ` +\n",
              "        `last modified: ${\n",
              "            file.lastModifiedDate ? file.lastModifiedDate.toLocaleDateString() :\n",
              "                                    'n/a'} - `));\n",
              "    const percent = span('0% done');\n",
              "    li.appendChild(percent);\n",
              "\n",
              "    outputElement.appendChild(li);\n",
              "\n",
              "    const fileDataPromise = new Promise((resolve) => {\n",
              "      const reader = new FileReader();\n",
              "      reader.onload = (e) => {\n",
              "        resolve(e.target.result);\n",
              "      };\n",
              "      reader.readAsArrayBuffer(file);\n",
              "    });\n",
              "    // Wait for the data to be ready.\n",
              "    let fileData = yield {\n",
              "      promise: fileDataPromise,\n",
              "      response: {\n",
              "        action: 'continue',\n",
              "      }\n",
              "    };\n",
              "\n",
              "    // Use a chunked sending to avoid message size limits. See b/62115660.\n",
              "    let position = 0;\n",
              "    do {\n",
              "      const length = Math.min(fileData.byteLength - position, MAX_PAYLOAD_SIZE);\n",
              "      const chunk = new Uint8Array(fileData, position, length);\n",
              "      position += length;\n",
              "\n",
              "      const base64 = btoa(String.fromCharCode.apply(null, chunk));\n",
              "      yield {\n",
              "        response: {\n",
              "          action: 'append',\n",
              "          file: file.name,\n",
              "          data: base64,\n",
              "        },\n",
              "      };\n",
              "\n",
              "      let percentDone = fileData.byteLength === 0 ?\n",
              "          100 :\n",
              "          Math.round((position / fileData.byteLength) * 100);\n",
              "      percent.textContent = `${percentDone}% done`;\n",
              "\n",
              "    } while (position < fileData.byteLength);\n",
              "  }\n",
              "\n",
              "  // All done.\n",
              "  yield {\n",
              "    response: {\n",
              "      action: 'complete',\n",
              "    }\n",
              "  };\n",
              "}\n",
              "\n",
              "scope.google = scope.google || {};\n",
              "scope.google.colab = scope.google.colab || {};\n",
              "scope.google.colab._files = {\n",
              "  _uploadFiles,\n",
              "  _uploadFilesContinue,\n",
              "};\n",
              "})(self);\n",
              "</script> "
            ]
          },
          "metadata": {}
        },
        {
          "output_type": "stream",
          "name": "stdout",
          "text": [
            "Saving pexels-shkrabaanthony-5852340.jpg to pexels-shkrabaanthony-5852340.jpg\n",
            "Saving pexels-mart-production-8217434.jpg to pexels-mart-production-8217434.jpg\n",
            "Prediction: Recyclable (Confidence: 0.864)\n"
          ]
        }
      ]
    },
    {
      "cell_type": "markdown",
      "metadata": {
        "id": "8f033001"
      },
      "source": [
        "## Summary:\n",
        "\n",
        "### Data Analysis Key Findings\n",
        "\n",
        "*   No dedicated test set directory was found, so the validation data was used for model evaluation.\n",
        "*   The model achieved a test loss of approximately 0.174 and a test accuracy of approximately 0.947 on the validation set.\n",
        "*   A function `preprocess_image` was successfully created to prepare single images for prediction, including resizing to 96x96, normalization, and adding a batch dimension.\n",
        "*   An example image was successfully selected from the dataset and classified by the model.\n",
        "*   The model predicted a value of 0.9946 for the example image, classifying it as 'recyclable' based on a threshold of 0.5.\n",
        "*   The dataset contains two classifications: 'non\\_recyclable' (indexed as 0) and 'recyclable' (indexed as 1).\n",
        "*   The trained model was successfully saved to the file 'recyclable\\_classifier\\_model.h5'.\n",
        "\n",
        "### Insights or Next Steps\n",
        "\n",
        "*   Consider converting the model saving format from the legacy HDF5 format to the native Keras format (`.keras`) as recommended.\n",
        "*   To get a more robust evaluation, it would be beneficial to split the original dataset into dedicated training, validation, and test sets before training the model.\n"
      ]
    }
  ]
}